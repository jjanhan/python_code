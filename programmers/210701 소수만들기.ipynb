{
 "cells": [
  {
   "cell_type": "markdown",
   "metadata": {},
   "source": [
    "출처: 프로그래머스 코딩 테스트 연습, https://programmers.co.kr/learn/challenges\n",
    "\n",

    "### 문제 설명\n",
    "주어진 숫자 중 3개의 수를 더했을 때 소수가 되는 경우의 개수를 구하려고 합니다.  \n",
    "숫자들이 들어있는 배열 nums가 매개변수로 주어질 때, nums에 있는 숫자들 중 서로 다른 3개를 골라 더했을 때 소수가 되는 경우의 개수를 return 하도록 solution 함수를 완성해주세요.\n",
    "\n",
    "### 제한사항\n",
    "nums에 들어있는 숫자의 개수는 3개 이상 50개 이하입니다.  \n",
    "nums의 각 원소는 1 이상 1,000 이하의 자연수이며, 중복된 숫자가 들어있지 않습니다.  \n",
    "\n",
    "#### 입출력 예\n",
    "nums|result\n",
    "--|--\n",
    "[1,2,3,4]|1\n",
    "[1,2,7,6,4]|4  \n",
    "\n",
    "  - 입출력 예 #1\n",
    "    - [1,2,4]를 이용해서 7을 만들 수 있습니다.  \n",
    "      \n",
    "      \n",
    "  - 입출력 예 #2\n",
    "    - [1,2,4]를 이용해서 7을 만들 수 있습니다.\n",
    "    - [1,4,6]을 이용해서 11을 만들 수 있습니다.\n",
    "    - [2,4,7]을 이용해서 13을 만들 수 있습니다.\n",
    "    - [4,6,7]을 이용해서 17을 만들 수 있습니다."
   ]
  },
  {
   "cell_type": "code",
   "execution_count": null,
   "metadata": {},
   "outputs": [],
   "source": []
  },
  {
   "cell_type": "markdown",
   "metadata": {},
   "source": [
    "### 알고리즘\n",
    "  - nums 배열의 세 숫자의 합을 구합니다.\n",
    "    - nums 배열의 세 개 인덱스를 중복되지 않도록 추출해냅니다.\n",
    "    - 추출된 인덱스로 배열의 요소의 합을 구합니다.\n",
    "    - 그 합을 리스트로 작성\n",
    "  - 세 숫자의 합이 소수인지 판단합니다.\n",
    "    - 소수인지를 판단하는 코드를 작성합니다.\n",
    "    - 소수일 때 소수 개수 구하는 변수를 1 증가시킵니다"
   ]
  },
  {
   "cell_type": "code",
   "execution_count": null,
   "metadata": {},
   "outputs": [],
   "source": []
  },
  {
   "cell_type": "markdown",
   "metadata": {},
   "source": [
    "### nums의 인덱스 중 세 개를 고르는 모든 조합\n",
    "  - 구글 검색 : itertools import combinations\n",
    "  - 중복 허락되지 않고 인덱스에서 세 수를 뽑는 모든 경우"
   ]
  },
  {
   "cell_type": "code",
   "execution_count": 5,
   "metadata": {},
   "outputs": [
    {
     "name": "stdout",
     "output_type": "stream",
     "text": [
      "[[0, 1, 2], [0, 1, 3], [0, 1, 4], [0, 2, 3], [0, 2, 4], [0, 3, 4], [1, 2, 3], [1, 2, 4], [1, 3, 4], [2, 3, 4]]\n"
     ]
    }
   ],
   "source": [
    "from itertools import combinations as C\n",
    "\n",
    "nums = [1, 2, 7, 6, 4]\n",
    "m = 3\n",
    "\n",
    "nums_indices = [list(x) for x in C(range(0, len(nums)), m)]\n",
    "\n",
    "print(nums_indices)"
   ]
  },
  {
   "cell_type": "code",
   "execution_count": null,
   "metadata": {},
   "outputs": [],
   "source": []
  },
  {
   "cell_type": "markdown",
   "metadata": {},
   "source": [
    "### 값이 소수인지 판별하는 코드\n",
    "  - 인덱스에 의한 배열의 값의 합을 구하여 소수인지 판별\n",
    "  - sqrt(n)-제곱근-보다 작은 수에서 나누어 떨어지는 수가 있는지 조사"
   ]
  },
  {
   "cell_type": "code",
   "execution_count": 6,
   "metadata": {},
   "outputs": [
    {
     "name": "stdout",
     "output_type": "stream",
     "text": [
      "False\n",
      "True\n"
     ]
    }
   ],
   "source": [
    "def decide_prime(n):\n",
    "    if n <= 1 or type(n) != int:\n",
    "        return False\n",
    "    \n",
    "    for i in range(2, int(n**0.5) + 1):\n",
    "        if n % i == 0:\n",
    "            return False\n",
    "    return True\n",
    "\n",
    "print(decide_prime(10))\n",
    "print(decide_prime(17))"
   ]
  },
  {
   "cell_type": "code",
   "execution_count": null,
   "metadata": {},
   "outputs": [],
   "source": []
  },
  {
   "cell_type": "markdown",
   "metadata": {},
   "source": [
    "#### 입출력 예 2로 실행해봄\n",
    "  - 주어진 인덱스로 순환(for)\n",
    "    - sum_nums : 각 인덱스에 해당하는 세 수를 더한 값을 할당  \n",
    "      \n",
    "      \n",
    "  - 소수 판별 함수\n",
    "    - 소수가 아니면 0을 리턴\n",
    "    - 소수이면 1을 리턴 : answer에 더해지는 형태로 개수를 세도록 함"
   ]
  },
  {
   "cell_type": "code",
   "execution_count": 12,
   "metadata": {},
   "outputs": [
    {
     "name": "stdout",
     "output_type": "stream",
     "text": [
      "4\n"
     ]
    }
   ],
   "source": [
    "from itertools import combinations as C\n",
    "\n",
    "def decide_prime(n):\n",
    "    for i in range(2, int(n**0.5) + 1):\n",
    "        if n % i == 0:\n",
    "            return 0\n",
    "    return 1\n",
    "\n",
    "\n",
    "nums = [1, 2, 7, 6, 4]\n",
    "m = 3\n",
    "\n",
    "answer = 0\n",
    "\n",
    "nums_indices = [list(x) for x in C(range(0, len(nums)), m)]\n",
    "\n",
    "for [i, j, k] in nums_indices:\n",
    "    sum_nums = nums[i] + nums[j] + nums[k]\n",
    "    answer += decide_prime(sum_nums)\n",
    "    \n",
    "\n",
    "print(answer)\n"
   ]
  },
  {
   "cell_type": "code",
   "execution_count": null,
   "metadata": {},
   "outputs": [],
   "source": []
  },
  {
   "cell_type": "markdown",
   "metadata": {},
   "source": [
    "### 프로그래머스에서 요구하는 함수 형태로 변형하여 제출\n",
    "  - 채택됨"
   ]
  },
  {
   "cell_type": "code",
   "execution_count": 10,
   "metadata": {},
   "outputs": [],
   "source": [
    "def solution(nums):\n",
    "    from itertools import combinations as C\n",
    "\n",
    "    def decide_prime(n):\n",
    "        for i in range(2, int(n**0.5) + 1):\n",
    "            if n % i == 0:\n",
    "                return 0\n",
    "        return 1\n",
    "\n",
    "    m = 3\n",
    "\n",
    "    answer = 0\n",
    "\n",
    "    nums_indices = [list(x) for x in C(range(0, len(nums)), m)]\n",
    "\n",
    "    for [i, j, k] in nums_indices:\n",
    "        sum_nums = nums[i] + nums[j] + nums[k]\n",
    "        answer += decide_prime(sum_nums)\n",
    "\n",
    "    return answer"
   ]
  },
  {
   "cell_type": "code",
   "execution_count": 11,
   "metadata": {},
   "outputs": [
    {
     "name": "stdout",
     "output_type": "stream",
     "text": [
      "4\n"
     ]
    }
   ],
   "source": [
    "nums = [1, 2, 7, 6, 4]\n",
    "print(solution(nums))"
   ]
  },
  {
   "cell_type": "markdown",
   "metadata": {},
   "source": [
    "  - m을 조정하면 두 수, 네 수, ... 가능해짐"
   ]
  },
  {
   "cell_type": "code",
   "execution_count": null,
   "metadata": {},
   "outputs": [],
   "source": []
  }
 ],
 "metadata": {
  "kernelspec": {
   "display_name": "Python 3",
   "language": "python",
   "name": "python3"
  },
  "language_info": {
   "codemirror_mode": {
    "name": "ipython",
    "version": 3
   },
   "file_extension": ".py",
   "mimetype": "text/x-python",
   "name": "python",
   "nbconvert_exporter": "python",
   "pygments_lexer": "ipython3",
   "version": "3.8.5"
  }
 },
 "nbformat": 4,
 "nbformat_minor": 4
}
