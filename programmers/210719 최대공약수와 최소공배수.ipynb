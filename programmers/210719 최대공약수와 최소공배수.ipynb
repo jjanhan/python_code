{
 "cells": [
  {
   "cell_type": "markdown",
   "metadata": {},
   "source": [
    "<문제 : https://programmers.co.kr/learn/courses/30/lessons/12940>"
   ]
  },
  {
   "cell_type": "code",
   "execution_count": null,
   "metadata": {},
   "outputs": [],
   "source": []
  },
  {
   "cell_type": "markdown",
   "metadata": {},
   "source": [
    "## 문제 : 최대공약수와 최소공배수  \n",
    "\n",
    "#### 문제 설명\n",
    "> 두 수를 입력받아 두 수의 최대공약수와 최소공배수를 반환하는 함수, solution을 완성해 보세요. 배열의 맨 앞에 최대공약수, 그다음 최소공배수를 넣어 반환하면 됩니다. 예를 들어 두 수 3, 12의 최대공약수는 3, 최소공배수는 12이므로 solution(3, 12)는 [3, 12]를 반환해야 합니다.  \n",
    " \n",
    "\n",
    "#### 제한 사항\n",
    "- 두 수는 1이상 1000000이하의 자연수입니다.  \n",
    "  \n",
    "  \n",
    "#### 입출력 예\n",
    "\n",
    "n|m|return\n",
    "--|--|--\n",
    "3|12|[3, 12]\n",
    "2|5|[1, 10]  \n",
    "  \n",
    "  \n",
    "- 입출력 예 설명  \n",
    "\n",
    "  - 입출력 예 #1  \n",
    "    - 위의 설명과 같습니다.\n",
    "\n",
    "  - 입출력 예 #2\n",
    "    - 자연수 2와 5의 최대공약수는 1, 최소공배수는 10이므로 [1, 10]을 리턴해야 합니다."
   ]
  },
  {
   "cell_type": "code",
   "execution_count": null,
   "metadata": {},
   "outputs": [],
   "source": []
  },
  {
   "cell_type": "markdown",
   "metadata": {},
   "source": [
    "### 알고리즘\n",
    "- 특별한 절차는 없을 것 같습니다.\n",
    "  - 최대공약수와 최소공배수를 구하고\n",
    "    - 최대공약수는 유클리드 호제법으로 구하겠습니다.\n",
    "  - 리스트로 만들어 반환하면 됩니다.  \n",
    "    \n",
    "      \n",
    "- 최대공약수(GCD : Greatest Common Devisor) / 최소공배수(LCM : Least Common Multiple) 수학적 고찰\n",
    "  - 두 수 $A = aG, \\ \\ B = bG, \\ \\ \\ a, \\ b$는 서로소\n",
    "    - 서로소는 공약수가 1밖에 없는 경우입니다.\n",
    "    - 최대공약수 : $G$\n",
    "    - 최소공배수 : $L = abG$\n",
    "    - 두 수의 곱 : $AB = aG \\ bG = ab \\ G^2 = abG \\ G = LG$\n",
    "    - 위의 식에서 : $L = \\cfrac{AB}{G}$"
   ]
  },
  {
   "cell_type": "code",
   "execution_count": null,
   "metadata": {},
   "outputs": [],
   "source": []
  },
  {
   "cell_type": "markdown",
   "metadata": {},
   "source": [
    "#### 유클리드 호제법으로 최대공약수 구하는 함수입니다.\n",
    "- 자세한 사항은 제 블로그 링크를 참조해서 보세요.\n",
    "- https://jjanhan.tistory.com/26"
   ]
  },
  {
   "cell_type": "code",
   "execution_count": 1,
   "metadata": {},
   "outputs": [],
   "source": [
    "def gcd(a, b):\n",
    "    if type(a) != int or type(b) != int:\n",
    "        return None\n",
    "\n",
    "    if a < b:\n",
    "        a, b = b, a\n",
    "\n",
    "    while True:\n",
    "        if a % b == 0:\n",
    "            return b\n",
    "        else:\n",
    "            a, b = b, a%b"
   ]
  },
  {
   "cell_type": "code",
   "execution_count": 2,
   "metadata": {},
   "outputs": [
    {
     "name": "stdout",
     "output_type": "stream",
     "text": [
      "82\n"
     ]
    }
   ],
   "source": [
    "print(gcd(1558, 3854))"
   ]
  },
  {
   "cell_type": "code",
   "execution_count": null,
   "metadata": {},
   "outputs": [],
   "source": []
  },
  {
   "cell_type": "markdown",
   "metadata": {},
   "source": [
    "#### 제출한 코드입니다\n",
    "- 주의점 : 순환문을 반복하면서 n, m이 바뀝니다.\n",
    "  - 그래서 순환문 시작 전에 두 수의 곱을 먼저 저장해 둡니다 : nm = n * m"
   ]
  },
  {
   "cell_type": "code",
   "execution_count": 22,
   "metadata": {},
   "outputs": [],
   "source": [
    "def solution(n, m):\n",
    "    answer = []\n",
    "    \n",
    "    nm = n*m\n",
    "    if n < m:\n",
    "        n, m = m, n\n",
    "\n",
    "    while True:\n",
    "        if n % m == 0:\n",
    "            gcd = m\n",
    "            answer.append(gcd)\n",
    "            break\n",
    "        else:\n",
    "            n, m = m, n%m\n",
    "            \n",
    "    lcm = int(nm / gcd)\n",
    "    answer.append(lcm)\n",
    "    \n",
    "    return answer"
   ]
  },
  {
   "cell_type": "code",
   "execution_count": 23,
   "metadata": {},
   "outputs": [
    {
     "name": "stdout",
     "output_type": "stream",
     "text": [
      "[3, 12]\n",
      "[1, 10]\n"
     ]
    }
   ],
   "source": [
    "input_tests = [[3, 12], [2, 5]]\n",
    "\n",
    "for n, m in input_tests:\n",
    "    print(solution(n, m))"
   ]
  },
  {
   "cell_type": "code",
   "execution_count": null,
   "metadata": {},
   "outputs": [],
   "source": []
  },
  {
   "cell_type": "markdown",
   "metadata": {},
   "source": [
    "- 미리 저장해 두지 않으려면 변수를 별도로 만들어 n, m 값에는 변화를 주지 않는 방법입니다"
   ]
  },
  {
   "cell_type": "code",
   "execution_count": 20,
   "metadata": {},
   "outputs": [],
   "source": [
    "def solution(n, m):\n",
    "    answer = []\n",
    "\n",
    "    a, b = n, m\n",
    "    \n",
    "    if a < b:\n",
    "        a, b = b, a\n",
    "\n",
    "    while True:\n",
    "        if a % b == 0:\n",
    "            gcd = b\n",
    "            answer.append(gcd)\n",
    "            break\n",
    "        else:\n",
    "            a, b = b, a%b\n",
    "    lcm = int(n*m / gcd)\n",
    "    answer.append(lcm)\n",
    "    \n",
    "    return answer"
   ]
  },
  {
   "cell_type": "code",
   "execution_count": 21,
   "metadata": {},
   "outputs": [
    {
     "name": "stdout",
     "output_type": "stream",
     "text": [
      "[3, 12]\n",
      "[1, 10]\n"
     ]
    }
   ],
   "source": [
    "input_tests = [[3, 12], [2, 5]]\n",
    "\n",
    "for n, m in input_tests:\n",
    "    print(solution(n, m))"
   ]
  },
  {
   "cell_type": "code",
   "execution_count": null,
   "metadata": {},
   "outputs": [],
   "source": []
  }
 ],
 "metadata": {
  "kernelspec": {
   "display_name": "Python 3",
   "language": "python",
   "name": "python3"
  },
  "language_info": {
   "codemirror_mode": {
    "name": "ipython",
    "version": 3
   },
   "file_extension": ".py",
   "mimetype": "text/x-python",
   "name": "python",
   "nbconvert_exporter": "python",
   "pygments_lexer": "ipython3",
   "version": "3.8.5"
  }
 },
 "nbformat": 4,
 "nbformat_minor": 4
}
