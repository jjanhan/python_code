{
 "cells": [
  {
   "cell_type": "markdown",
   "id": "ea393e49",
   "metadata": {},
   "source": [
    "<참조 : https://programmers.co.kr/learn/courses/30/lessons/42576>"
   ]
  },
  {
   "cell_type": "markdown",
   "id": "44addfb0",
   "metadata": {},
   "source": [
    "## 완주하지 못한 선수  \n",
    "### 문제 설명\n",
    "- 수많은 마라톤 선수들이 마라톤에 참여하였습니다. 단 한 명의 선수를 제외하고는 모든 선수가 마라톤을 완주하였습니다.\n",
    "\n",
    "- 마라톤에 참여한 선수들의 이름이 담긴 배열 participant와 완주한 선수들의 이름이 담긴 배열 completion이 주어질 때, 완주하지 못한 선수의 이름을 return 하도록 solution 함수를 작성해주세요.  \n",
    "  \n",
    "  \n",
    "\n",
    "### 제한사항\n",
    "- 마라톤 경기에 참여한 선수의 수는 1명 이상 100,000명 이하입니다.\n",
    "- completion의 길이는 participant의 길이보다 1 작습니다.\n",
    "- 참가자의 이름은 1개 이상 20개 이하의 알파벳 소문자로 이루어져 있습니다.\n",
    "- 참가자 중에는 동명이인이 있을 수 있습니다.  \n",
    "  \n",
    "  \n",
    "#### 입출력 예\n",
    "participant|completion|return\n",
    "--|--|--\n",
    "[\"leo\", \"kiki\", \"eden\"]|[\"eden\", \"kiki\"]|\"leo\"\n",
    "[\"marina\", \"josipa\", \"nikola\", \"vinko\", \"filipa\"]|[\"josipa\", \"filipa\", \"marina\", \"nikola\"]|\"vinko\"\n",
    "[\"mislav\", \"stanko\", \"mislav\", \"ana\"]|[\"stanko\", \"ana\", \"mislav\"]|\"mislav\"\n",
    "\n",
    "  \n",
    "    \n",
    "    \n",
    "- 입출력 예 설명  \n",
    "  \n",
    "  - 예제 #1 \n",
    "  \n",
    "    - \"leo\"는 참여자 명단에는 있지만, 완주자 명단에는 없기 때문에 완주하지 못했습니다.  \n",
    "          \n",
    "  - 예제 #2\n",
    "    - \"vinko\"는 참여자 명단에는 있지만, 완주자 명단에는 없기 때문에 완주하지 못했습니다.  \n",
    "          \n",
    "  - 예제 #3\n",
    "    - \"mislav\"는 참여자 명단에는 두 명이 있지만, 완주자 명단에는 한 명밖에 없기 때문에 한명은 완주하지 못했습니다."
   ]
  },
  {
   "cell_type": "code",
   "execution_count": null,
   "id": "3e736aee",
   "metadata": {},
   "outputs": [],
   "source": []
  },
  {
   "cell_type": "markdown",
   "id": "0781b122",
   "metadata": {},
   "source": [
    "### 알고리즘\n",
    "- participant  completion\n",
    "- participant와  completion을 집합형으로 바꿔 set(participant)-set(completion)을 하면 완주하지 못한 사람을 구할 수 있습니다.\n",
    "  - 완주하지 못한 사람 중에 이름이 같은 사람이 있는 경우\n",
    "    - participant와  completion을 모두 비교해야 합니다.\n",
    "    - 다른 방법 생각해보기  \n",
    "      \n",
    "        \n",
    "- 두 리스트를 비교하는 방법\n",
    "  - 리스트 a, b 비교\n",
    "    - c = np.array(a) == np.array(b)\n",
    "    - 각 요소(성분)별 비교\n",
    "    - a, b가 같은 형태일 때  \n",
    "      \n",
    "        \n",
    "        \n",
    "- 절차\n",
    "  - 리스트 participant, completion를 정렬\n",
    "  - completion의 마지막에 성분 하나를 추가\n",
    "  - 요소(성분)별로 같으면 True, 다르면 False로 저장되는 리스트 : compare_list\n",
    "  - 첫 번째 False가 나타나는 리스트 participant의 성분이 결과 : return"
   ]
  },
  {
   "cell_type": "code",
   "execution_count": 1,
   "id": "bbeea630",
   "metadata": {},
   "outputs": [
    {
     "name": "stdout",
     "output_type": "stream",
     "text": [
      "[ True  True  True False False False]\n",
      "[ True  True  True False False False]\n",
      "False\n",
      "c\n"
     ]
    }
   ],
   "source": [
    "import numpy as np\n",
    "\n",
    "a = ['a', 'b', 'c', 'c', 'd', 'e']\n",
    "b = ['a', 'b', 'c', 'd', 'e', '']\n",
    "\n",
    "print(np.array(a)==np.array(b))\n",
    "\n",
    "c = np.array(a)==np.array(b)\n",
    "print(c)\n",
    "print(c[3])\n",
    "\n",
    "for i in range(len(c)):\n",
    "    if c[i] == False:\n",
    "        print(a[i])\n",
    "        break"
   ]
  },
  {
   "cell_type": "code",
   "execution_count": null,
   "id": "271bc14b",
   "metadata": {},
   "outputs": [],
   "source": []
  },
  {
   "cell_type": "code",
   "execution_count": 10,
   "id": "d9ec4816",
   "metadata": {},
   "outputs": [],
   "source": [
    "def solution(participant, completion):\n",
    "    import numpy as np\n",
    "    \n",
    "    participant.sort()\n",
    "    completion.sort()\n",
    "    \n",
    "    completion.append(' ')\n",
    "    \n",
    "    compare_list = np.array(participant) == np.array(completion)\n",
    "    \n",
    "    for i in range(len(compare_list)):\n",
    "        if compare_list[i] == False:\n",
    "            return (str(participant[i]))"
   ]
  },
  {
   "cell_type": "code",
   "execution_count": 11,
   "id": "9c6b971f",
   "metadata": {},
   "outputs": [
    {
     "name": "stdout",
     "output_type": "stream",
     "text": [
      "['eden', 'kiki', 'leo'] ['eden', 'kiki', ' '] leo\n",
      "['filipa', 'josipa', 'marina', 'nikola', 'vinko'] ['filipa', 'josipa', 'marina', 'nikola', ' '] vinko\n",
      "['ana', 'mislav', 'mislav', 'stanko'] ['ana', 'mislav', 'stanko', ' '] mislav\n"
     ]
    }
   ],
   "source": [
    "test_lists = [\n",
    "    [[\"leo\", \"kiki\", \"eden\"], [\"eden\", \"kiki\"]],\n",
    "    [[\"marina\", \"josipa\", \"nikola\", \"vinko\", \"filipa\"], [\"josipa\", \"filipa\", \"marina\", \"nikola\"]],\n",
    "    [[\"mislav\", \"stanko\", \"mislav\", \"ana\"], [\"stanko\", \"ana\", \"mislav\"]]\n",
    "]\n",
    "\n",
    "for participant, completion in test_lists:\n",
    "    print(participant, completion, solution(participant, completion))"
   ]
  },
  {
   "cell_type": "markdown",
   "id": "f8279bc9",
   "metadata": {},
   "source": [
    "- 채점을 시작합니다.\n",
    "- 정확성  테스트\n",
    "  - 테스트 1 〉\t통과 (1938.10ms, 27.7MB)\n",
    "  - 테스트 2 〉\t통과 (2078.68ms, 27.4MB)\n",
    "  - 테스트 3 〉\t통과 (1974.87ms, 27.8MB)\n",
    "  - 테스트 4 〉\t통과 (2243.69ms, 27.9MB)\n",
    "  - 테스트 5 〉\t통과 (1588.68ms, 27.9MB)  \n",
    "    \n",
    "    \n",
    "- 효율성  테스트\n",
    "  - 테스트 1 〉\t통과 (157.90ms, 42.3MB)\n",
    "  - 테스트 2 〉\t실패 (시간 초과)\n",
    "  - 테스트 3 〉\t통과 (251.16ms, 54.6MB)\n",
    "  - 테스트 4 〉\t실패 (시간 초과)\n",
    "  - 테스트 5 〉\t실패 (시간 초과)  \n",
    "    \n",
    "    \n",
    "- 채점 결과\n",
    "  - 정확성: 50.0\n",
    "  - 효율성: 20.0\n",
    "  - 합계: 70.0 / 100.0"
   ]
  },
  {
   "cell_type": "code",
   "execution_count": null,
   "id": "cbe3543f",
   "metadata": {},
   "outputs": [],
   "source": []
  },
  {
   "cell_type": "markdown",
   "id": "6d3dbad1",
   "metadata": {},
   "source": [
    "### 단순 비교하는 형태로 코딩함"
   ]
  },
  {
   "cell_type": "code",
   "execution_count": 20,
   "id": "71942a7c",
   "metadata": {},
   "outputs": [],
   "source": [
    "def solution1(participant, completion):\n",
    "    participant.sort()\n",
    "    completion.sort()\n",
    "    \n",
    "    completion.append(' ')\n",
    "    \n",
    "    for i in range(len(completion)):\n",
    "        if participant[i] != completion[i]:\n",
    "            return (str(participant[i]))"
   ]
  },
  {
   "cell_type": "code",
   "execution_count": 21,
   "id": "1bdf122c",
   "metadata": {},
   "outputs": [
    {
     "name": "stdout",
     "output_type": "stream",
     "text": [
      "['eden', 'kiki', 'leo'] ['eden', 'kiki', ' '] leo\n",
      "['filipa', 'josipa', 'marina', 'nikola', 'vinko'] ['filipa', 'josipa', 'marina', 'nikola', ' '] vinko\n",
      "['ana', 'mislav', 'mislav', 'stanko'] ['ana', 'mislav', 'stanko', ' '] mislav\n"
     ]
    }
   ],
   "source": [
    "test_lists = [\n",
    "    [[\"leo\", \"kiki\", \"eden\"], [\"eden\", \"kiki\"]],\n",
    "    [[\"marina\", \"josipa\", \"nikola\", \"vinko\", \"filipa\"], [\"josipa\", \"filipa\", \"marina\", \"nikola\"]],\n",
    "    [[\"mislav\", \"stanko\", \"mislav\", \"ana\"], [\"stanko\", \"ana\", \"mislav\"]]\n",
    "]\n",
    "\n",
    "for participant, completion in test_lists:\n",
    "    print(participant, completion, solution1(participant, completion))"
   ]
  },
  {
   "cell_type": "markdown",
   "id": "a26ff921",
   "metadata": {},
   "source": [
    "- 채점 결과\n",
    "  - 정확성: 50.0\n",
    "  - 효율성: 50.0\n",
    "  - 합계: 100.0 / 100.0"
   ]
  },
  {
   "cell_type": "code",
   "execution_count": null,
   "id": "75c90e22",
   "metadata": {},
   "outputs": [],
   "source": []
  }
 ],
 "metadata": {
  "kernelspec": {
   "display_name": "Python 3",
   "language": "python",
   "name": "python3"
  },
  "language_info": {
   "codemirror_mode": {
    "name": "ipython",
    "version": 3
   },
   "file_extension": ".py",
   "mimetype": "text/x-python",
   "name": "python",
   "nbconvert_exporter": "python",
   "pygments_lexer": "ipython3",
   "version": "3.8.8"
  }
 },
 "nbformat": 4,
 "nbformat_minor": 5
}
