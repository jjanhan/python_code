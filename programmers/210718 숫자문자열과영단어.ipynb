{
 "cells": [
  {
   "cell_type": "markdown",
   "metadata": {},
   "source": [
    "<문제 : https://programmers.co.kr/learn/courses/30/lessons/81301>"
   ]
  },
  {
   "cell_type": "code",
   "execution_count": null,
   "metadata": {},
   "outputs": [],
   "source": []
  },
  {
   "cell_type": "markdown",
   "metadata": {},
   "source": [
    "## 문제 : 숫자 문자열과 영단어  \n",
    "  \n",
    "- 문제 설명\n",
    "img1.png\n",
    "\n",
    "  - 네오와 프로도가 숫자놀이를 하고 있습니다. 네오가 프로도에게 숫자를 건넬 때 일부 자릿수를 영단어로 바꾼 카드를 건네주면 프로도는 원래 숫자를 찾는 게임입니다.\n",
    "\n",
    "  - 다음은 숫자의 일부 자릿수를 영단어로 바꾸는 예시입니다.\n",
    "\n",
    ">> 1478 → \"one4seveneight\"  \n",
    ">> 234567 → \"23four5six7\"  \n",
    ">> 10203 → \"1zerotwozero3\"  \n",
    "  \n",
    "  \n",
    "  - 이렇게 숫자의 일부 자릿수가 영단어로 바뀌어졌거나, 혹은 바뀌지 않고 그대로인 문자열 s가 매개변수로 주어집니다. s가 의미하는 원래 숫자를 return 하도록 solution 함수를 완성해주세요.\n",
    "\n",
    "  - 참고로 각 숫자에 대응되는 영단어는 다음 표와 같습니다.\n",
    "\n",
    "숫자|영단어\n",
    "--|--\n",
    "0|zero\n",
    "1|one\n",
    "2|two\n",
    "3|three\n",
    "4|four\n",
    "5|five\n",
    "6|six\n",
    "7|seven\n",
    "8|eight\n",
    "9|nine\n",
    "  \n",
    "    \n",
    "      \n",
    "      \n",
    "- 제한사항\n",
    "  - 1 ≤ s의 길이 ≤ 50\n",
    "  - s가 \"zero\" 또는 \"0\"으로 시작하는 경우는 주어지지 않습니다.\n",
    "  - return 값이 1 이상 2,000,000,000 이하의 정수가 되는 올바른 입력만 s로 주어집니다.  \n",
    "    \n",
    "    \n",
    "  - 입출력 예\n",
    "  \n",
    "s|result\n",
    "--|--\n",
    "\"one4seveneight\"|1478\n",
    "\"23four5six7\"|234567\n",
    "\"2three45sixseven\"|234567\n",
    "\"123\"|123 \n",
    "  \n",
    "    \n",
    "    \n",
    "  - 입출력 예 설명\n",
    "    - 입출력 예 #1\n",
    "      - 문제 예시와 같습니다.  \n",
    "        \n",
    "    - 입출력 예 #2\n",
    "      - 문제 예시와 같습니다.  \n",
    "        \n",
    "    - 입출력 예 #3\n",
    "      - \"three\"는 3, \"six\"는 6, \"seven\"은 7에 대응되기 때문에 정답은 입출력 예 #2와 같은 234567이 됩니다.\n",
    "      - 입출력 예 #2와 #3과 같이 같은 정답을 가리키는 문자열이 여러 가지가 나올 수 있습니다.  \n",
    "        \n",
    "    - 입출력 예 #4\n",
    "      - s에는 영단어로 바뀐 부분이 없습니다.\n"
   ]
  },
  {
   "cell_type": "code",
   "execution_count": null,
   "metadata": {},
   "outputs": [],
   "source": []
  },
  {
   "cell_type": "markdown",
   "metadata": {},
   "source": [
    "### 알고리즘\n",
    "- 문자열에 있는 영단어를 숫자로 바꾸면 됩니다.\n",
    "  - s.replace(j, i) : 문자열 j를 문자열 i로 바꿉니다.\n",
    "    - 문자열 s가 바뀌지는 않습니다. : s = s.replace(j, i)\n",
    "  - 바꿔진 숫자로 이루어진 문자열을 숫자로 바꿉니다. : int(s)  \n",
    "    \n",
    "      \n",
    "#### 변수형  \n",
    "- 리스트형으로 실행\n",
    "  - 오류발생\n",
    "    \n",
    "```python\n",
    "str_to_num = [\n",
    "    ['0', 'zero'],\n",
    "    ['1', 'one'],\n",
    "    ['2', 'two'],\n",
    "    ...\n",
    "]\n",
    "```\n",
    "\n",
    "  - 딕셔너리형으로 실행\n",
    "    - 순환문에서 j는 딕셔너리의 value, i는 딕셔너리의 key\n",
    "    - 결과는 key값으로 바꾸어야 합니다.\n",
    "    - 변환된 문자열 s를 int(s)로 반환\n",
    "  \n",
    "```python\n",
    "str_to_num = {\n",
    "    '0': 'zero',\n",
    "    '1': 'one',\n",
    "    '2': 'two',\n",
    "    ...\n",
    "}\n",
    "\n",
    "...\n",
    "\n",
    "for i, j in str_to_num.items():\n",
    "    s = s.replace(j, i)\n",
    "```\n",
    "\n"
   ]
  },
  {
   "cell_type": "code",
   "execution_count": null,
   "metadata": {},
   "outputs": [],
   "source": []
  },
  {
   "cell_type": "code",
   "execution_count": 9,
   "metadata": {},
   "outputs": [
    {
     "ename": "TypeError",
     "evalue": "unhashable type: 'list'",
     "output_type": "error",
     "traceback": [
      "\u001b[1;31m---------------------------------------------------------------------------\u001b[0m",
      "\u001b[1;31mTypeError\u001b[0m                                 Traceback (most recent call last)",
      "\u001b[1;32m<ipython-input-9-5a0a6d06233a>\u001b[0m in \u001b[0;36m<module>\u001b[1;34m\u001b[0m\n\u001b[1;32m----> 1\u001b[1;33m str_to_num = {\n\u001b[0m\u001b[0;32m      2\u001b[0m     \u001b[1;33m[\u001b[0m\u001b[1;34m'0'\u001b[0m\u001b[1;33m,\u001b[0m \u001b[1;34m'zero'\u001b[0m\u001b[1;33m]\u001b[0m\u001b[1;33m,\u001b[0m\u001b[1;33m\u001b[0m\u001b[1;33m\u001b[0m\u001b[0m\n\u001b[0;32m      3\u001b[0m     \u001b[1;33m[\u001b[0m\u001b[1;34m'1'\u001b[0m\u001b[1;33m,\u001b[0m \u001b[1;34m'one'\u001b[0m\u001b[1;33m]\u001b[0m\u001b[1;33m,\u001b[0m\u001b[1;33m\u001b[0m\u001b[1;33m\u001b[0m\u001b[0m\n\u001b[0;32m      4\u001b[0m     \u001b[1;33m[\u001b[0m\u001b[1;34m'2'\u001b[0m\u001b[1;33m,\u001b[0m \u001b[1;34m'two'\u001b[0m\u001b[1;33m]\u001b[0m\u001b[1;33m,\u001b[0m\u001b[1;33m\u001b[0m\u001b[1;33m\u001b[0m\u001b[0m\n\u001b[0;32m      5\u001b[0m     \u001b[1;33m[\u001b[0m\u001b[1;34m'3'\u001b[0m\u001b[1;33m,\u001b[0m \u001b[1;34m'three'\u001b[0m\u001b[1;33m]\u001b[0m\u001b[1;33m,\u001b[0m\u001b[1;33m\u001b[0m\u001b[1;33m\u001b[0m\u001b[0m\n",
      "\u001b[1;31mTypeError\u001b[0m: unhashable type: 'list'"
     ]
    }
   ],
   "source": [
    "str_to_num = {\n",
    "    ['0', 'zero'],\n",
    "    ['1', 'one'],\n",
    "    ['2', 'two'],\n",
    "    ['3', 'three'],\n",
    "    ['4', 'four'],\n",
    "    ['5', 'five'],\n",
    "    ['6', 'six'],\n",
    "    ['7', 'seven'],\n",
    "    ['8', 'eight'],\n",
    "    ['9', 'nine']\n",
    "}\n",
    "\n",
    "s = \"one4seveneight\"\n",
    "\n",
    "for i, j in str_to_num.items():\n",
    "    s = s.replace(j, i)\n",
    "\n",
    "s"
   ]
  },
  {
   "cell_type": "code",
   "execution_count": null,
   "metadata": {},
   "outputs": [],
   "source": []
  },
  {
   "cell_type": "code",
   "execution_count": 10,
   "metadata": {},
   "outputs": [
    {
     "data": {
      "text/plain": [
       "'1478'"
      ]
     },
     "execution_count": 10,
     "metadata": {},
     "output_type": "execute_result"
    }
   ],
   "source": [
    "str_to_num = {\n",
    "    '0': 'zero',\n",
    "    '1': 'one',\n",
    "    '2': 'two',\n",
    "    '3': 'three',\n",
    "    '4': 'four',\n",
    "    '5': 'five',\n",
    "    '6': 'six',\n",
    "    '7': 'seven',\n",
    "    '8': 'eight',\n",
    "    '9': 'nine'\n",
    "}\n",
    "\n",
    "s = \"one4seveneight\"\n",
    "\n",
    "# str_to_num.values()\n",
    "for i, j in str_to_num.items():\n",
    "    s = s.replace(j, i)\n",
    "\n",
    "s"
   ]
  },
  {
   "cell_type": "code",
   "execution_count": null,
   "metadata": {},
   "outputs": [],
   "source": []
  },
  {
   "cell_type": "markdown",
   "metadata": {},
   "source": [
    "#### 제출한 코드입니다."
   ]
  },
  {
   "cell_type": "code",
   "execution_count": 11,
   "metadata": {},
   "outputs": [],
   "source": [
    "def solution(s):\n",
    "    str_to_num = {\n",
    "        '0': 'zero',\n",
    "        '1': 'one',\n",
    "        '2': 'two',\n",
    "        '3': 'three',\n",
    "        '4': 'four',\n",
    "        '5': 'five',\n",
    "        '6': 'six',\n",
    "        '7': 'seven',\n",
    "        '8': 'eight',\n",
    "        '9': 'nine'\n",
    "    }\n",
    "    \n",
    "    for i, j in str_to_num.items():\n",
    "        s = s.replace(j, i)\n",
    "\n",
    "    return int(s)"
   ]
  },
  {
   "cell_type": "code",
   "execution_count": 12,
   "metadata": {},
   "outputs": [
    {
     "name": "stdout",
     "output_type": "stream",
     "text": [
      "1478\n",
      "234567\n",
      "234567\n",
      "123\n"
     ]
    }
   ],
   "source": [
    "s = [\"one4seveneight\", \"23four5six7\", \"2three45sixseven\", \"123\"]\n",
    "\n",
    "for i in s:\n",
    "    print(solution(i))"
   ]
  },
  {
   "cell_type": "code",
   "execution_count": null,
   "metadata": {},
   "outputs": [],
   "source": []
  }
 ],
 "metadata": {
  "kernelspec": {
   "display_name": "Python 3",
   "language": "python",
   "name": "python3"
  },
  "language_info": {
   "codemirror_mode": {
    "name": "ipython",
    "version": 3
   },
   "file_extension": ".py",
   "mimetype": "text/x-python",
   "name": "python",
   "nbconvert_exporter": "python",
   "pygments_lexer": "ipython3",
   "version": "3.8.5"
  }
 },
 "nbformat": 4,
 "nbformat_minor": 4
}
