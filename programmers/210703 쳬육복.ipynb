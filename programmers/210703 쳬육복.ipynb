{
 "cells": [
  {
   "cell_type": "markdown",
   "metadata": {},
   "source": [
    "<문제 출처 : https://programmers.co.kr/learn/courses/30/lessons/42862>"
   ]
  },
  {
   "cell_type": "markdown",
   "metadata": {},
   "source": [
    "## 제목 : 체육복\n",
    "\n",
    "### 문제 설명\n",
    "  - 점심시간에 도둑이 들어, 일부 학생이 체육복을 도난당했습니다. 다행히 여벌 체육복이 있는 학생이 이들에게 체육복을 빌려주려 합니다. 학생들의 번호는 체격 순으로 매겨져 있어, 바로 앞번호의 학생이나 바로 뒷번호의 학생에게만 체육복을 빌려줄 수 있습니다. 예를 들어, 4번 학생은 3번 학생이나 5번 학생에게만 체육복을 빌려줄 수 있습니다. 체육복이 없으면 수업을 들을 수 없기 때문에 체육복을 적절히 빌려 최대한 많은 학생이 체육수업을 들어야 합니다.\n",
    "\n",
    "  - 전체 학생의 수 n, 체육복을 도난당한 학생들의 번호가 담긴 배열 lost, 여벌의 체육복을 가져온 학생들의 번호가 담긴 배열 reserve가 매개변수로 주어질 때, 체육수업을 들을 수 있는 학생의 최댓값을 return 하도록 solution 함수를 작성해주세요.\n",
    "\n",
    "### 제한사항\n",
    "  - 전체 학생의 수는 2명 이상 30명 이하입니다.\n",
    "  - 체육복을 도난당한 학생의 수는 1명 이상 n명 이하이고 중복되는 번호는 없습니다.\n",
    "  - 여벌의 체육복을 가져온 학생의 수는 1명 이상 n명 이하이고 중복되는 번호는 없습니다.\n",
    "  - 여벌 체육복이 있는 학생만 다른 학생에게 체육복을 빌려줄 수 있습니다.\n",
    "  - 여벌 체육복을 가져온 학생이 체육복을 도난당했을 수 있습니다. 이때 이 학생은 체육복을 하나만 도난당했다고 가정하며, 남은 체육복이 하나이기에 다른 학생에게는 체육복을 빌려줄 수 없습니다.\n",
    "\n",
    "#### 입출력 예\n",
    "n|lost|reserve|return\n",
    "--|--|--|--\n",
    "5|[2, 4]|[1, 3, 5]|5\n",
    "5|[2, 4]|[3]|4\n",
    "3|[3]|[1]|2\n",
    "\n",
    "  - 입출력 예 설명\n",
    "    - 예제 #1\n",
    "      - 1번 학생이 2번 학생에게 체육복을 빌려주고, 3번 학생이나 5번 학생이 4번 학생에게 체육복을 빌려주면 학생 5명이 체육수업을 들을 수 있습니다.\n",
    "\n",
    "    - 예제 #2\n",
    "      -3번 학생이 2번 학생이나 4번 학생에게 체육복을 빌려주면 학생 4명이 체육수업을 들을 수 있습니다.\n",
    "\n",
    "#### 출처\n",
    "\n",
    "  - ※ 공지 - 2019년 2월 18일 지문이 리뉴얼되었습니다.\n",
    "  - ※ 공지 - 2019년 2월 27일, 28일 테스트케이스가 추가되었습니다."
   ]
  },
  {
   "cell_type": "code",
   "execution_count": null,
   "metadata": {},
   "outputs": [],
   "source": []
  },
  {
   "cell_type": "markdown",
   "metadata": {},
   "source": [
    "#### 변수\n",
    "  - n : 전체 학생 수\n",
    "  - lost : 도난당한 학생 리스트\n",
    "  - reserve : 여유분이 있는 학생 리스트  \n",
    "    \n",
    "#### ex 01\n",
    "  - n = 8\n",
    "  - lost = [3, 5]\n",
    "  - reserve = [2, 4]  \n",
    "  - 학생 4가 학생 3에게 체육복을 주는 경우가 생기면 안됨\n",
    "    \n",
    "#### ex 02\n",
    "  - n = 8\n",
    "  - lost = [3, 5]\n",
    "  - reserve = [3, 4]"
   ]
  },
  {
   "cell_type": "markdown",
   "metadata": {},
   "source": [
    "### 알고리즘\n",
    "  - lost / reserve 를 정렬\n",
    "  - answer = n - len(lost)\n",
    "  - 순환문 : reserve의 수만큼\n",
    "    - reserve와 lost에 같은 수 있는지 확인\n",
    "      - 같은 수가 있으면 answer를 1 증가시킨다\n",
    "      - reserve와 lost에서 삭제\n",
    "    - reserve보다 1 작은 수가 lost에 있는지 확인하고 없으면 1 큰 수로 다시 확인\n",
    "      - 있으면 answer를 1 증가시킨다"
   ]
  },
  {
   "cell_type": "code",
   "execution_count": null,
   "metadata": {},
   "outputs": [],
   "source": []
  },
  {
   "cell_type": "code",
   "execution_count": 19,
   "metadata": {},
   "outputs": [],
   "source": [
    "def solution(n, lost, reserve):\n",
    "    answer = n - len(lost)\n",
    "    lost.sort()\n",
    "    reserve.sort()\n",
    "    \n",
    "    for i in reserve:\n",
    "        if i in lost:\n",
    "            answer += 1\n",
    "            print(\"01\", i)\n",
    "            lost.remove(i)\n",
    "            continue\n",
    "        elif i-1 in lost:\n",
    "            answer += 1\n",
    "            print(\"02\", i)\n",
    "            lost.remove(i-1)\n",
    "            continue\n",
    "        elif i+1 in lost:\n",
    "            answer += 1\n",
    "            print(\"03\", i)\n",
    "            lost.remove(i+1)\n",
    "            continue\n",
    "            \n",
    "    return answer"
   ]
  },
  {
   "cell_type": "code",
   "execution_count": 20,
   "metadata": {},
   "outputs": [
    {
     "name": "stdout",
     "output_type": "stream",
     "text": [
      "03 1\n",
      "03 3\n",
      "5\n"
     ]
    }
   ],
   "source": [
    "n = 5\n",
    "lost = [2, 4]\n",
    "reserve = [1, 3, 5]\n",
    "\n",
    "print(solution(n, lost, reserve))"
   ]
  },
  {
   "cell_type": "code",
   "execution_count": null,
   "metadata": {},
   "outputs": [],
   "source": []
  },
  {
   "cell_type": "code",
   "execution_count": 16,
   "metadata": {},
   "outputs": [],
   "source": [
    "def solution(n, lost, reserve):\n",
    "    answer = n - len(lost)\n",
    "    lost.sort()\n",
    "    reserve.sort()\n",
    "    \n",
    "    for i in reserve:\n",
    "        if i in lost:\n",
    "            answer += 1\n",
    "            lost.remove(i)\n",
    "            continue\n",
    "        elif i-1 in lost:\n",
    "            answer += 1\n",
    "            lost.remove(i-1)\n",
    "            continue\n",
    "        elif i+1 in lost:\n",
    "            answer += 1\n",
    "            lost.remove(i+1)\n",
    "            continue\n",
    "            \n",
    "    return answer"
   ]
  },
  {
   "cell_type": "code",
   "execution_count": 17,
   "metadata": {},
   "outputs": [
    {
     "name": "stdout",
     "output_type": "stream",
     "text": [
      "8\n"
     ]
    }
   ],
   "source": [
    "n = 8\n",
    "lost = [3, 5]\n",
    "reserve = [2, 4]\n",
    "\n",
    "print(solution(n, lost, reserve))"
   ]
  },
  {
   "cell_type": "markdown",
   "metadata": {},
   "source": [
    "  - 채점을 시작합니다.\n",
    "  - 정확성  테스트  \n",
    "    \n",
    "\n",
    "  - 테스트 1 〉\t통과 (0.01ms, 10.1MB)\n",
    "  - 테스트 2 〉\t통과 (0.01ms, 10.3MB)\n",
    "  - 테스트 3 〉\t통과 (0.01ms, 10.2MB)\n",
    "  - 테스트 4 〉\t통과 (0.01ms, 10.2MB)\n",
    "  - <테스트 5 〉\t실패 (0.01ms, 10.2MB)>\n",
    "  - 테스트 6 〉\t통과 (0.00ms, 10.2MB)\n",
    "  - 테스트 7 〉\t통과 (0.02ms, 10.2MB)\n",
    "  - 테스트 8 〉\t통과 (0.01ms, 10.2MB)\n",
    "  - 테스트 9 〉\t통과 (0.01ms, 10.3MB)\n",
    "  - 테스트 10 〉\t통과 (0.01ms, 10.2MB)\n",
    "  - 테스트 11 〉\t통과 (0.00ms, 10.2MB)\n",
    "  - 테스트 12 〉\t통과 (0.00ms, 10.2MB)  \n",
    "    \n",
    "    \n",
    "  - 채점 결과\n",
    "    - 정확성: 91.7\n",
    "    - 합계: 91.7 / 100.0"
   ]
  },
  {
   "cell_type": "code",
   "execution_count": null,
   "metadata": {},
   "outputs": [],
   "source": []
  },
  {
   "cell_type": "code",
   "execution_count": null,
   "metadata": {},
   "outputs": [],
   "source": [
    "def solution(n, lost, reserve):\n",
    "    answer = n - len(lost)\n",
    "    lost.sort()\n",
    "    reserve.sort()\n",
    "    \n",
    "    for i in reserve:\n",
    "        if i in lost:\n",
    "            answer += 1\n",
    "            lost.remove(i)\n",
    "            reserve.remove(i)\n",
    "            continue\n",
    "        elif i-1 in lost:\n",
    "            answer += 1\n",
    "            lost.remove(i-1)\n",
    "            continue\n",
    "        elif i+1 in lost:\n",
    "            answer += 1\n",
    "            lost.remove(i+1)\n",
    "            continue\n",
    "            \n",
    "    return answer"
   ]
  },
  {
   "cell_type": "markdown",
   "metadata": {},
   "source": [
    "  - 채점을 시작합니다.\n",
    "  - 정확성  테스트  \n",
    "    \n",
    "    \n",
    "  - <테스트 1 〉\t실패 (0.01ms, 10.2MB)>\n",
    "  - <테스트 2 〉\t실패 (0.01ms, 10.3MB)>\n",
    "  - 테스트 3 〉\t통과 (0.01ms, 10.1MB)\n",
    "  - 테스트 4 〉\t통과 (0.01ms, 10.3MB)\n",
    "  - 테스트 5 〉\t통과 (0.01ms, 10.3MB)\n",
    "  - <테스트 6 〉\t실패 (0.01ms, 10.2MB)>\n",
    "  - <테스트 7 〉\t실패 (0.02ms, 10.1MB)>\n",
    "  - 테스트 8 〉\t통과 (0.01ms, 10.1MB)\n",
    "  - 테스트 9 〉\t통과 (0.01ms, 10.1MB)\n",
    "  - <테스트 10 〉\t실패 (0.01ms, 10.2MB)>\n",
    "  - 테스트 11 〉\t통과 (0.00ms, 10.2MB)\n",
    "  - 테스트 12 〉\t통과 (0.01ms, 10.1MB)  \n",
    "    \n",
    "    \n",
    "  - 채점 결과\n",
    "    - 정확성: 58.3\n",
    "    - 합계: 58.3 / 100.0"
   ]
  },
  {
   "cell_type": "code",
   "execution_count": null,
   "metadata": {},
   "outputs": [],
   "source": []
  },
  {
   "cell_type": "code",
   "execution_count": 37,
   "metadata": {},
   "outputs": [],
   "source": [
    "def solution(n, lost, reserve):\n",
    "    answer = n - len(lost)\n",
    "    lost.sort()\n",
    "    reserve.sort()\n",
    "    \n",
    "    for i in range(len(reserve)):\n",
    "        if reserve[i] in lost:\n",
    "            answer += 1\n",
    "            print(\"01\", i)\n",
    "            lost.remove(reserve[i])\n",
    "            reserve.remove(reserve[i])\n",
    "            continue\n",
    "        elif reserve[i-1] in lost:\n",
    "            answer += 1\n",
    "            print(\"02\", i)\n",
    "#             lost.remove(i-1)\n",
    "            continue\n",
    "        elif i == len(reserve)-1:\n",
    "            break\n",
    "        elif reserve[i+1] in lost:\n",
    "            answer += 1\n",
    "            print(\"03\", i)\n",
    "#             lost.remove(i+1)\n",
    "            continue\n",
    "            \n",
    "    return answer"
   ]
  },
  {
   "cell_type": "code",
   "execution_count": 38,
   "metadata": {},
   "outputs": [
    {
     "name": "stdout",
     "output_type": "stream",
     "text": [
      "3\n"
     ]
    }
   ],
   "source": [
    "n = 5\n",
    "lost = [2, 4]\n",
    "reserve = [1, 3, 5]\n",
    "\n",
    "print(solution(n, lost, reserve))"
   ]
  },
  {
   "cell_type": "code",
   "execution_count": null,
   "metadata": {},
   "outputs": [],
   "source": []
  },
  {
   "cell_type": "markdown",
   "metadata": {},
   "source": [
    "## 고려하지 못한 점\n",
    "\n",
    "#### ex 03\n",
    "  - n = 8\n",
    "  - lost = [3, 4]\n",
    "  - reserve = [2, 3]  \n",
    "  - 이 경우 reserve의 2로 lost 3에게 체육복을 빌려준다"
   ]
  },
  {
   "cell_type": "markdown",
   "metadata": {},
   "source": [
    "## 알고리즘 다시 정립\n",
    "### 01. lost와 reserve에 동시에 있는 값 찾기\n",
    "  - lost와 reserve에서 성분 삭제 \n",
    "    - 집합형으로 변환 후 차집합으로 계산 : set(lost) - set(reserve)\n",
    "    - 계산 후 다시 리스트 형으로 변환 : list(set(lost) - set(reserve))\n",
    "  - uni_lost = list(set(lost) - set(reserve))\n",
    "  - uni_reserve = list(set(reserve) - set(lost))\n",
    "    \n",
    "### 02. reserve 값\n",
    "  - 1 : 오른쪽(큰 값)만 uni_lost 값과 비교\n",
    "  - n : 왼쪽(작은 값)만 uni_lost 값과 비교\n",
    "  - uni_reserve를 순환하며 uni_lost 값 삭제\n",
    "  - uni_lost를 값을 삭제하며 남는 값이 체육복이 없는 경우입니다  \n",
    "    \n",
    "    \n",
    "  - 결과 : n - len(uni_lost)로 결과값을 리턴하여 구합니다  \n",
    "    \n",
    "### 03. if / elif의 순서도 고려\n",
    "  - 완성 : 채택됨"
   ]
  },
  {
   "cell_type": "code",
   "execution_count": 1,
   "metadata": {},
   "outputs": [],
   "source": [
    "def solution(n, lost, reserve):\n",
    "    lost.sort()\n",
    "    reserve.sort()\n",
    "    \n",
    "    uni_lost = list(set(lost) - set(reserve))\n",
    "    uni_reserve = list(set(reserve) - set(lost))\n",
    "    \n",
    "    for i in uni_reserve:\n",
    "        if i == 1:\n",
    "            if i+1 in uni_lost:\n",
    "                uni_lost.remove(i+1)\n",
    "                continue\n",
    "                \n",
    "        elif i-1 in uni_lost:\n",
    "            uni_lost.remove(i-1)\n",
    "            continue\n",
    "\n",
    "        elif i == n:\n",
    "            if i-1 in uni_lost:\n",
    "                uni_lost.remove(i-1)\n",
    "                continue\n",
    "                \n",
    "        elif i+1 in uni_lost:\n",
    "            uni_lost.remove(i+1)\n",
    "            continue\n",
    "            \n",
    "    answer = n - len(uni_lost)\n",
    "            \n",
    "    return answer"
   ]
  },
  {
   "cell_type": "code",
   "execution_count": null,
   "metadata": {},
   "outputs": [],
   "source": []
  }
 ],
 "metadata": {
  "kernelspec": {
   "display_name": "Python 3",
   "language": "python",
   "name": "python3"
  },
  "language_info": {
   "codemirror_mode": {
    "name": "ipython",
    "version": 3
   },
   "file_extension": ".py",
   "mimetype": "text/x-python",
   "name": "python",
   "nbconvert_exporter": "python",
   "pygments_lexer": "ipython3",
   "version": "3.8.5"
  }
 },
 "nbformat": 4,
 "nbformat_minor": 4
}
