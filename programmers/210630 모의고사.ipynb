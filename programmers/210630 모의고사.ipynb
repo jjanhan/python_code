{
 "cells": [
  {
   "cell_type": "markdown",
   "metadata": {},
   "source": [
    "## programmers.co.kr 코딩 테스트\n",
    "\n",
    "### 문제 설명\n",
    "수포자는 수학을 포기한 사람의 준말입니다. 수포자 삼인방은 모의고사에 수학 문제를 전부 찍으려 합니다. 수포자는 1번 문제부터 마지막 문제까지 다음과 같이 찍습니다.  \n",
    "  \n",
    "  \n",
    "\n",
    "  - 1번 수포자가 찍는 방식: 1, 2, 3, 4, 5, 1, 2, 3, 4, 5, ...\n",
    "  - 2번 수포자가 찍는 방식: 2, 1, 2, 3, 2, 4, 2, 5, 2, 1, 2, 3, 2, 4, 2, 5, ...\n",
    "  - 3번 수포자가 찍는 방식: 3, 3, 1, 1, 2, 2, 4, 4, 5, 5, 3, 3, 1, 1, 2, 2, 4, 4, 5, 5, ...  \n",
    "\n",
    "\n",
    "1번 문제부터 마지막 문제까지의 정답이 순서대로 들은 배열 answers가 주어졌을 때, 가장 많은 문제를 맞힌 사람이 누구인지 배열에 담아 return 하도록 solution 함수를 작성해주세요.  \n",
    "  \n",
    "  \n",
    "\n",
    "#### 제한 조건  \n",
    "\n",
    "시험은 최대 10,000 문제로 구성되어있습니다.  \n",
    "문제의 정답은 1, 2, 3, 4, 5중 하나입니다.  \n",
    "가장 높은 점수를 받은 사람이 여럿일 경우, return하는 값을 오름차순 정렬해주세요.  \n",
    "  \n",
    "  \n",
    "입출력 예  \n",
    "\n",
    "answers\treturn  \n",
    "\n",
    "  - [1,2,3,4,5]\t[1]  \n",
    "\n",
    "  - [1,3,2,4,2]\t[1,2,3]  \n",
    "  \n",
    "  \n",
    "입출력 예 설명  \n",
    "\n",
    "입출력 예 #1  \n",
    "  \n",
    "  \n",
    "  - 수포자 1은 모든 문제를 맞혔습니다.  \n",
    "\n",
    "  - 수포자 2는 모든 문제를 틀렸습니다.  \n",
    "\n",
    "  - 수포자 3은 모든 문제를 틀렸습니다.  \n",
    "\n",
    "따라서 가장 문제를 많이 맞힌 사람은 수포자 1입니다.  \n",
    "  \n",
    "  \n",
    "\n",
    "입출력 예 #2  \n",
    "  \n",
    "\n",
    "  - 모든 사람이 2문제씩을 맞췄습니다.  \n"
   ]
  },
  {
   "cell_type": "markdown",
   "metadata": {},
   "source": [
    "### 알고리즘\n",
    "  - 수포자 1을 기준으로 맞힌 답의 개수를 계산\n",
    "    - 수포자 1의 답 체크를 리스트로 작성 : 반복되는 수를 확인\n",
    "    - 문항 수를 수포자 1의 반복되는 수로 나누고 나머지 계산\n",
    "    - 전달되는 인자(answers)와 비교하여 맞힌 문제 세기  \n",
    "      \n",
    "  - 수포자 2와 3도 같은 방법으로 맞힌 문제수 파악\n",
    "    - 가장 많이 맞힌 수포자를 리턴"
   ]
  },
  {
   "cell_type": "code",
   "execution_count": null,
   "metadata": {},
   "outputs": [],
   "source": []
  },
  {
   "cell_type": "markdown",
   "metadata": {},
   "source": [
    "#### mem_01(answers) 함수\n",
    "  - len(answers) : 전체 문제 수\n",
    "  - 수포자 1이 제출한 답안(반복되는 문항만 리스트)과 항목별로 비교하여 맞힌 문항수를 계산가능\n",
    "  - 수포자 1이 제출한 전체 답안 만들기 : len(answers) 개수만큼 만들기\n",
    "  - a : 수포자 1이 제출한 전체 답안  \n",
    "  \n",
    "  \n",
    "  - np.equal(answers, a) : 리스트 answers와 리스트 a의 항목별 비교\n",
    "    - 같으면 True\n",
    "    - 다르면 False  \n",
    "    \n",
    "  - sum(np.equal(answers, a) : True 의 개수를 계산\n",
    "  "
   ]
  },
  {
   "cell_type": "code",
   "execution_count": 2,
   "metadata": {},
   "outputs": [
    {
     "name": "stdout",
     "output_type": "stream",
     "text": [
      "6\n"
     ]
    }
   ],
   "source": [
    "import numpy as np\n",
    "\n",
    "def mem_01(answers):\n",
    "    \n",
    "    answer_01 = [1, 2, 3, 4, 5]\n",
    "    qu_01 = len(answers) // len(answer_01)\n",
    "    re_01 = len(answers) % len(answer_01)\n",
    "    \n",
    "    a = answer_01 * qu_01 + answer_01[:re_01]\n",
    "   \n",
    "    return sum(np.equal(answers, a))\n",
    "\n",
    "print(mem_01([1, 2, 3, 4, 5, 1, 3, 2]))"
   ]
  },
  {
   "cell_type": "code",
   "execution_count": null,
   "metadata": {},
   "outputs": [],
   "source": []
  },
  {
   "cell_type": "code",
   "execution_count": 3,
   "metadata": {},
   "outputs": [],
   "source": [
    "def solution(answers):\n",
    "    import numpy as np\n",
    "    \n",
    "    answer = []\n",
    "    tmp = []\n",
    "    ans = [[1, 2, 3, 4, 5],\n",
    "          [2, 1, 2, 3, 2, 4, 2, 5],\n",
    "          [3, 3, 1, 1, 2, 2, 4, 4, 5, 5]]\n",
    "    \n",
    "    for i in range(3):\n",
    "        qu = len(answers) // len(ans[i])\n",
    "        re = len(answers) % len(ans[i])\n",
    "        \n",
    "        a = ans[i]*qu + ans[i][:re]\n",
    "        corr = sum(np.equal(answers, a))\n",
    "        \n",
    "        tmp.append(corr)\n",
    "        \n",
    "    for i in range(3):\n",
    "        if tmp[i] == max(tmp):\n",
    "            answer.append(i+1)\n",
    "        \n",
    "    return answer\n"
   ]
  },
  {
   "cell_type": "code",
   "execution_count": 4,
   "metadata": {},
   "outputs": [
    {
     "name": "stdout",
     "output_type": "stream",
     "text": [
      "[1]\n"
     ]
    }
   ],
   "source": [
    "print(solution([1, 2, 2, 2, 1, 5, 3, 1, 4, 1, 3, 2]))"
   ]
  },
  {
   "cell_type": "code",
   "execution_count": null,
   "metadata": {},
   "outputs": [],
   "source": []
  },
  {
   "cell_type": "code",
   "execution_count": null,
   "metadata": {},
   "outputs": [],
   "source": []
  },
  {
   "cell_type": "code",
   "execution_count": 5,
   "metadata": {},
   "outputs": [
    {
     "name": "stdout",
     "output_type": "stream",
     "text": [
      "5\n"
     ]
    }
   ],
   "source": [
    "a = [1, 2, 3, 2, 5, 4, 5]\n",
    "print(max(a))"
   ]
  },
  {
   "cell_type": "code",
   "execution_count": null,
   "metadata": {},
   "outputs": [],
   "source": []
  }
 ],
 "metadata": {
  "kernelspec": {
   "display_name": "Python 3",
   "language": "python",
   "name": "python3"
  },
  "language_info": {
   "codemirror_mode": {
    "name": "ipython",
    "version": 3
   },
   "file_extension": ".py",
   "mimetype": "text/x-python",
   "name": "python",
   "nbconvert_exporter": "python",
   "pygments_lexer": "ipython3",
   "version": "3.8.5"
  }
 },
 "nbformat": 4,
 "nbformat_minor": 4
}
