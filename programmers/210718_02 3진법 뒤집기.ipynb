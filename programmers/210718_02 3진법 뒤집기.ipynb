{
 "cells": [
  {
   "cell_type": "markdown",
   "metadata": {},
   "source": [
    "<문제 : https://programmers.co.kr/learn/courses/30/lessons/68935>"
   ]
  },
  {
   "cell_type": "code",
   "execution_count": null,
   "metadata": {},
   "outputs": [],
   "source": []
  },
  {
   "cell_type": "markdown",
   "metadata": {},
   "source": [
    "## 문제 : 3진법 뒤집기  \n",
    "  \n",
    "  \n",
    "#### 문제 설명\n",
    "- 자연수 n이 매개변수로 주어집니다. n을 3진법 상에서 앞뒤로 뒤집은 후, 이를 다시 10진법으로 표현한 수를 return 하도록 solution 함수를 완성해주세요.  \n",
    "\n",
    "\n",
    "#### 제한사항\n",
    "- n은 1 이상 100,000,000 이하인 자연수입니다. \n",
    "  \n",
    "  \n",
    "#### 입출력 예 \n",
    "\n",
    "n|result\n",
    "--|--\n",
    "45|7\n",
    "125|229 \n",
    "  \n",
    "  \n",
    "- 입출력 예 설명\n",
    "  - 입출력 예 #1\n",
    "    - 답을 도출하는 과정은 다음과 같습니다. \n",
    "    - 7을 return 해야 합니다.\n",
    "    \n",
    "n (10진법)|n (3진법)|앞뒤 반전(3진법)|10진법으로 표현\n",
    "--|--|--|--\n",
    "45|1200|0021|7 \n",
    "\n",
    "  - 입출력 예 #2\n",
    "    - 답을 도출하는 과정은 다음과 같습니다.\n",
    "    - 따라서 229를 return 해야 합니다.\n",
    "    \n",
    "n (10진법)|n (3진법)|앞뒤 반전(3진법)|10진법으로 표현\n",
    "--|--|--|--\n",
    "125|11122|22111|229\n"
   ]
  },
  {
   "cell_type": "code",
   "execution_count": 28,
   "metadata": {},
   "outputs": [
    {
     "data": {
      "text/plain": [
       "13"
      ]
     },
     "execution_count": 28,
     "metadata": {},
     "output_type": "execute_result"
    }
   ],
   "source": [
    "41//3"
   ]
  },
  {
   "cell_type": "markdown",
   "metadata": {},
   "source": [
    "### 알고리즙\n",
    "- 3진수로 표현하기 ; n = 125\n",
    "  - $125 = 1 \\times 3^4 + 1 \\times 3^3 + 1 \\times 3^2 + 2 \\times 3^1 + 2 \\times 3^0$\n",
    "  - 125 = 3 x 41 + 2 : 125%3=2(나머지), 125//3=41(몫)\n",
    "  - 41 = 3 x 13 + 2 : 41%3=2(나머지), 41//3=13(몫)\n",
    "  - 13 = 3 x 4 + 1 : 13%3=1(나머지), 13//3=4(몫)\n",
    "  - 4 = 3 x 1 + 1 : 4%3=1(나머지), 4//3=1(몫)\n",
    "  - 나머지들의 배열이 3진수로 표기되는 것과 같습니다. 위의 나열한 수식을 순환문으로 반복하여 3진수를 구합니다.  \n",
    "    \n",
    "      \n",
    "- 3진수 뒤집기\n",
    "  - 순환문을 통해 3진수의 배열을 trit = []에 추가해서 저장했습니다.\n",
    "  - trit : 3진수의 배열을 뒤집은 것입니다\n",
    "  - trit = trie[::-1] : 리스트의 슬라이싱에서 '-1'은 역순으로 배열하는 것입니다.\n",
    "    - 이렇게 하면 3진수 배열이 제대로 됩니다  \n",
    "    \n",
    "      \n",
    "- 10진수로 만들기\n",
    "  - 3진수의 첫 번째 수가 뒤집어진 수의 $1 = 3^0$의 자리입니다.\n",
    "  - 3진수의 두 번째 수가 뒤집어진 수의 $3 = 3^1$의 자리입니다.\n",
    "  - 3진수의 세 번째 수가 뒤집어진 수의 $9 = 3^2$의 자리입니다.\n",
    "  - 이것을 반복하면 뒤집어진 수를 10진수로 나타낸 것이 됩니다\n",
    "  \n",
    "#### 삼진수 : Trit, Trinary digit"
   ]
  },
  {
   "cell_type": "code",
   "execution_count": null,
   "metadata": {},
   "outputs": [],
   "source": []
  },
  {
   "cell_type": "code",
   "execution_count": 32,
   "metadata": {},
   "outputs": [
    {
     "data": {
      "text/plain": [
       "[2, 2, 1, 1, 1]"
      ]
     },
     "execution_count": 32,
     "metadata": {},
     "output_type": "execute_result"
    }
   ],
   "source": [
    "n = 125\n",
    "trit = []\n",
    "\n",
    "if n < 3:\n",
    "    trit = [n]\n",
    "    print(n)\n",
    "\n",
    "while True:\n",
    "    r = n % 3\n",
    "    trit.append(r)\n",
    "    n = n // 3\n",
    "    if n < 3:\n",
    "        trit.append(n)\n",
    "        break\n",
    "        \n",
    "trit"
   ]
  },
  {
   "cell_type": "code",
   "execution_count": 33,
   "metadata": {},
   "outputs": [
    {
     "data": {
      "text/plain": [
       "[1, 1, 1, 2, 2]"
      ]
     },
     "execution_count": 33,
     "metadata": {},
     "output_type": "execute_result"
    }
   ],
   "source": [
    "trit = trit[::-1]\n",
    "trit"
   ]
  },
  {
   "cell_type": "code",
   "execution_count": 34,
   "metadata": {},
   "outputs": [
    {
     "data": {
      "text/plain": [
       "229"
      ]
     },
     "execution_count": 34,
     "metadata": {},
     "output_type": "execute_result"
    }
   ],
   "source": [
    "deci = 0\n",
    "for i in range(len(trit)):\n",
    "    deci += trit[i] * 3**i\n",
    "    \n",
    "deci"
   ]
  },
  {
   "cell_type": "code",
   "execution_count": null,
   "metadata": {},
   "outputs": [],
   "source": []
  },
  {
   "cell_type": "markdown",
   "metadata": {},
   "source": [
    "#### 제출한 코드입니다."
   ]
  },
  {
   "cell_type": "code",
   "execution_count": 19,
   "metadata": {},
   "outputs": [],
   "source": [
    "def solution(n):\n",
    "    trit = []\n",
    "    \n",
    "    if n < 3:\n",
    "        trit = [n]\n",
    "        return n\n",
    "\n",
    "    while True:\n",
    "        r = n % 3\n",
    "        trit.append(r)\n",
    "        n = n // 3\n",
    "        if n < 3:\n",
    "            trit.append(n)\n",
    "            break\n",
    "            \n",
    "    trit = trit[::-1]\n",
    "    \n",
    "    deci = 0\n",
    "    for i in range(len(trit)):\n",
    "        deci += trit[i] * 3**i\n",
    "\n",
    "    return deci"
   ]
  },
  {
   "cell_type": "code",
   "execution_count": 20,
   "metadata": {},
   "outputs": [
    {
     "name": "stdout",
     "output_type": "stream",
     "text": [
      "7\n",
      "229\n"
     ]
    }
   ],
   "source": [
    "n = [45, 125]\n",
    "\n",
    "for i in n:\n",
    "    print(solution(i))"
   ]
  },
  {
   "cell_type": "code",
   "execution_count": null,
   "metadata": {},
   "outputs": [],
   "source": []
  },
  {
   "cell_type": "markdown",
   "metadata": {},
   "source": [
    "#### 3진수를 재배열하지 않고 결과물을 구할 수도 있습니다.\n",
    "- 마지막 십진수를 계산할 때, 3의 지수를 변경하면 됩니다"
   ]
  },
  {
   "cell_type": "code",
   "execution_count": 39,
   "metadata": {},
   "outputs": [],
   "source": [
    "def solution_desc(n):\n",
    "    trit = []\n",
    "    \n",
    "    if n < 3:\n",
    "        trit = [n]\n",
    "        return n\n",
    "\n",
    "    while True:\n",
    "        r = n % 3\n",
    "        trit.append(r)\n",
    "        n = n // 3\n",
    "        if n < 3:\n",
    "            trit.append(n)\n",
    "            break\n",
    "    # trit : \"앞뒤반전 3진수\" 입니다\n",
    "    deci = 0\n",
    "    \n",
    "    for i in range(len(trit)):\n",
    "        deci += trit[i] * 3**(len(trit)-i-1)\n",
    "\n",
    "    return deci"
   ]
  },
  {
   "cell_type": "code",
   "execution_count": 40,
   "metadata": {},
   "outputs": [
    {
     "name": "stdout",
     "output_type": "stream",
     "text": [
      "7\n",
      "229\n"
     ]
    }
   ],
   "source": [
    "n = [45, 125]\n",
    "\n",
    "for i in n:\n",
    "    print(solution_desc(i))"
   ]
  },
  {
   "cell_type": "code",
   "execution_count": null,
   "metadata": {},
   "outputs": [],
   "source": []
  },
  {
   "cell_type": "markdown",
   "metadata": {},
   "source": [
    "#### 또 다른 방법입니다.\n",
    "- $deci = (((2*3 + 2)*3 + 1)*3 + 1)*3 + 1$\n",
    "- $deci = 2*3^4 + 2*3^3 + 1*3^2 + 1*3^1 + 1$\n",
    "  - deci = 2 = trit[0]\n",
    "  - deci = 2x3 + 2 = deci x 3 + trit[1]\n",
    "  - deci = (2x3 + 2)x3 + 1 = deci x 3 + trit[2]\n",
    "  - deci = ((2x3 + 2)x3 + 1)x3 + 1 = deci x 3 + trit[3]\n",
    "  - deci = (((2x3 + 2)x3 + 1)x3 + 1)x3 + 1 = deci x 3 + trit[4]\n",
    "- deci에 그 다음 자릿수를 더한 값에 계속 3을 곱해도 같은 결과입니다."
   ]
  },
  {
   "cell_type": "code",
   "execution_count": 45,
   "metadata": {},
   "outputs": [],
   "source": [
    "def solution_02(n):\n",
    "    trit = []\n",
    "    \n",
    "    if n < 3:\n",
    "        trit = [n]\n",
    "        return n\n",
    "\n",
    "    while True:\n",
    "        r = n % 3\n",
    "        trit.append(r)\n",
    "        n = n // 3\n",
    "        if n < 3:\n",
    "            trit.append(n)\n",
    "            break\n",
    "            \n",
    "    deci = trit[0]\n",
    "    for i in range(1, len(trit)):\n",
    "        deci = deci * 3 + trit[i]\n",
    "        \n",
    "    return deci"
   ]
  },
  {
   "cell_type": "code",
   "execution_count": 46,
   "metadata": {},
   "outputs": [
    {
     "name": "stdout",
     "output_type": "stream",
     "text": [
      "7\n",
      "229\n"
     ]
    }
   ],
   "source": [
    "n = [45, 125]\n",
    "\n",
    "for i in n:\n",
    "    print(solution_02(i))"
   ]
  },
  {
   "cell_type": "code",
   "execution_count": null,
   "metadata": {},
   "outputs": [],
   "source": []
  }
 ],
 "metadata": {
  "kernelspec": {
   "display_name": "Python 3",
   "language": "python",
   "name": "python3"
  },
  "language_info": {
   "codemirror_mode": {
    "name": "ipython",
    "version": 3
   },
   "file_extension": ".py",
   "mimetype": "text/x-python",
   "name": "python",
   "nbconvert_exporter": "python",
   "pygments_lexer": "ipython3",
   "version": "3.8.5"
  }
 },
 "nbformat": 4,
 "nbformat_minor": 4
}
