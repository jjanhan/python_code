{
 "cells": [
  {
   "cell_type": "markdown",
   "metadata": {},
   "source": [
    "<문제 : https://programmers.co.kr/learn/courses/30/lessons/12921>"
   ]
  },
  {
   "cell_type": "code",
   "execution_count": null,
   "metadata": {},
   "outputs": [],
   "source": []
  },
  {
   "cell_type": "markdown",
   "metadata": {},
   "source": [
    "## 소수 찾기  \n",
    "  \n",
    "  \n",
    "- 문제 설명\n",
    "  - 1부터 입력받은 숫자 n 사이에 있는 소수의 개수를 반환하는 함수, solution을 만들어 보세요.\n",
    "\n",
    "  - 소수는 1과 자기 자신으로만 나누어지는 수를 의미합니다. (1은 소수가 아닙니다.)  \n",
    "    \n",
    "    \n",
    "\n",
    "- 제한 조건\n",
    "  - n은 2이상 1000000이하의 자연수입니다. \n",
    "    \n",
    "      \n",
    "      \n",
    "- 입출력 예\n",
    "\n",
    "n|result\n",
    "--|--\n",
    "10|4\n",
    "5|3 \n",
    "  \n",
    "    \n",
    "\n",
    "- 입출력 예 설명\n",
    "  - 입출력 예 #1\n",
    "    - 1부터 10 사이의 소수는 [2,3,5,7] 4개가 존재하므로 4를 반환  \n",
    "      \n",
    "      \n",
    "\n",
    "  - 입출력 예 #2\n",
    "    - 1부터 5 사이의 소수는 [2,3,5] 3개가 존재하므로 3를 반환"
   ]
  },
  {
   "cell_type": "code",
   "execution_count": null,
   "metadata": {},
   "outputs": [],
   "source": []
  },
  {
   "cell_type": "markdown",
   "metadata": {},
   "source": [
    "### 소수 찾기\n",
    "- 자연수의 분류\n",
    "  - 1 : 약수가 1개\n",
    "  - 소수(prime) : 1과 그 자신의 곱으로만 나타낼 수 있는 수 / 약수가 두 개인 수\n",
    "  - 합성수 : 두 가지 이상 곱으로 표현할 수 있는 수 / 약수가 세 개 이상인 수\n",
    "    \n",
    "- 소수 파악하기\n",
    "  - 8 : 8보다 작은 수로 나누어 떨어지는 수가 있으면 소수가 아님\n",
    "    - 8 % 2 = 0 : 8을 2로 나누면 나머지가 0이다 / 나누어 떨어진다\n",
    "    - 순환문을 사용해서 나누어지는 수가 있는지 파악합니다 : 2부터 8까지?\n",
    "    - 8 = 1 x 8 = 2 x 4 = 4 x 2 = 8 x 1 : 뒤의 두 곱셈을 할 필요가 없습니다\n",
    "    - 1은 할 필요가 없고 2로 나누어 떨어지는지 확인하면 됩니다\n",
    "  - 16 = 1 x 16 = 2 x 8 = 4 x 4\n",
    "    - 16의 제곱근(16 ** 0.5)까지만 확인하면 됩니다\n",
    "    - 제곱근이 소수점일 때를 고려해 n**0.5 + 1까지 순환문으로 확인하면 됩니다  \n",
    "      \n",
    "        \n",
    "        \n",
    "      \n",
    "- 숫자가 소수인지 아닌지 파악하는 함수\n",
    "\n",
    "```python\n",
    "def decide_prime(n):\n",
    "    if n <= 1 or type(n) != int:\n",
    "        return False\n",
    "    \n",
    "    for i in range(2, int(n**0.5) + 1):\n",
    "        if n % i == 0:\n",
    "            return False\n",
    "    return True\n",
    "```\n"
   ]
  },
  {
   "cell_type": "markdown",
   "metadata": {},
   "source": [
    "### 에라토스테네스의 체\n",
    "- 100이하인 모든 소수를 찾으시오\n",
    "  - 1은 제외\n",
    "  - 2는 소수입니다\n",
    "    - 2의 배수는 소수가 아니므로 2의 배수를 모두 지웁니다\n",
    "      - True -> False로 바꿉니다 : 이 때 4는 바뀝니다\n",
    "    - i의 배수 : for j in range(i+i, n, i)\n",
    "      - range 안의 값(인자)을 잘 보시기 바랍니다.\n",
    "      - i=2 : i+i = 4 부터 시작하고 세 번째 인자인 i는 i+i에서 i씩 증가하므로 i의 배수가 됩니다\n",
    "  - 3은 소수입니다\n",
    "    - 3의 배수는 소수가 아니므로 남은 수 중 3의 배수를 모두 지웁니다(True -> False)\n",
    "  - 4는 2의 배수에서 지워졌습니다\n",
    "  - 5는 소수입니다\n",
    "    - 남은 수 중 5의 배수는 모두 지웁니다(True -> False)  \n",
    "      \n",
    "      \n",
    "  - 이런 과정을 100까지 수에서 계속 반복했을 때 남은 수(값이 True인 index)가 모두 소수입니다  \n",
    "    \n",
    "    \n",
    "- find_prime(n) : 에라토스테네스의 체를 이용하여 n보다 작은 모든 소수를 구했습니다.\n",
    "  - n보다 작은 모든 소수를 구한 것입니다(주의)"
   ]
  },
  {
   "cell_type": "code",
   "execution_count": null,
   "metadata": {},
   "outputs": [],
   "source": []
  },
  {
   "cell_type": "markdown",
   "metadata": {},
   "source": [
    "### 알고리즘 : 에레토스테네스의 체를 이용\n",
    "- find_prime(n) 함수 이용\n",
    "  - decision_prime : 성분이 True가 n개인 배열입니다\n",
    "  - 순환문을 통해 2의 배수는 False로 값을 바꿉니다\n",
    "  - 3의 배수도 False로 바꿉니다  \n",
    "    \n",
    "  - 이 과정을 \"제곱근(n)+1\"까지 반복합니다\n",
    "  - 남아 있는 수를 반환합니다  \n",
    "    \n",
    "  - print(find_prime(13)) : 13이 누락됩니다\n",
    "    - n이 소수일 때 마지막 숫자 누락\n",
    "    - 이유 : decision_prime[0] = [True] / decision_prime[1] = [True]\n",
    "      - 인덱스(index)가 0부터 시작하면서 발생한 오류입니다  \n",
    "        \n",
    "          \n",
    "            \n",
    "- 순환문 range(n)에서 n 대신 n+1로 대체하면 결과가 제대로 나타납니다\n",
    "  - answer = [i for i in range(2, n+1) if decision_prime[i] == True]\n",
    "  - answer : 모든 소수를 표현\n",
    "  - len(answer)을 반환하면 됩니다."
   ]
  },
  {
   "cell_type": "code",
   "execution_count": null,
   "metadata": {},
   "outputs": [],
   "source": []
  },
  {
   "cell_type": "code",
   "execution_count": 1,
   "metadata": {},
   "outputs": [],
   "source": [
    "def find_prime(n):\n",
    "    if n <= 1 or type(n) != int:\n",
    "        print(\"구할 수 없습니다.\", end='')\n",
    "        return\n",
    "\n",
    "    decision_prime = [True] * n\n",
    "    a = int(n**0.5) + 1\n",
    "    \n",
    "    for i in range(2, a):\n",
    "        if decision_prime[i]:\n",
    "            for j in range(i+i, n, i):\n",
    "                decision_prime[j] = False\n",
    "                \n",
    "    return [i for i in range(2, n) if decision_prime[i] == True]\n"
   ]
  },
  {
   "cell_type": "code",
   "execution_count": 3,
   "metadata": {},
   "outputs": [
    {
     "name": "stdout",
     "output_type": "stream",
     "text": [
      "[2, 3, 5, 7, 11, 13, 17, 19, 23, 29, 31, 37, 41, 43, 47]\n"
     ]
    }
   ],
   "source": [
    "print(find_prime(50))"
   ]
  },
  {
   "cell_type": "code",
   "execution_count": 4,
   "metadata": {},
   "outputs": [
    {
     "name": "stdout",
     "output_type": "stream",
     "text": [
      "[2, 3, 5, 7, 11]\n"
     ]
    }
   ],
   "source": [
    "print(find_prime(13))"
   ]
  },
  {
   "cell_type": "code",
   "execution_count": null,
   "metadata": {},
   "outputs": [],
   "source": []
  },
  {
   "cell_type": "code",
   "execution_count": 5,
   "metadata": {},
   "outputs": [],
   "source": [
    "def solution(n):\n",
    "    decision_prime = [True] * n\n",
    "    \n",
    "    a = int(n**0.5) + 1\n",
    "    \n",
    "    for i in range(2, a):\n",
    "        if decision_prime[i]:\n",
    "            for j in range(i+i, n, i):\n",
    "                decision_prime[j] = False\n",
    "                \n",
    "    answer = [i for i in range(2, n) if decision_prime[i] == True]\n",
    "    print(answer)\n",
    "                \n",
    "    return len(answer)\n"
   ]
  },
  {
   "cell_type": "code",
   "execution_count": 6,
   "metadata": {},
   "outputs": [
    {
     "name": "stdout",
     "output_type": "stream",
     "text": [
      "[2, 3, 5, 7]\n",
      "4\n",
      "[2, 3]\n",
      "2\n"
     ]
    }
   ],
   "source": [
    "print(solution(10))\n",
    "print(solution(5))"
   ]
  },
  {
   "cell_type": "code",
   "execution_count": null,
   "metadata": {},
   "outputs": [],
   "source": []
  },
  {
   "cell_type": "code",
   "execution_count": 7,
   "metadata": {},
   "outputs": [],
   "source": [
    "def solution(n):\n",
    "    decision_prime = [True] * (n + 1)\n",
    "    \n",
    "    a = int(n**0.5) + 1\n",
    "    \n",
    "    for i in range(2, a):\n",
    "        if decision_prime[i]:\n",
    "            for j in range(i+i, n+1, i):\n",
    "                decision_prime[j] = False\n",
    "                \n",
    "    answer = [i for i in range(2, n+1) if decision_prime[i] == True]\n",
    "                \n",
    "    return len(answer)\n"
   ]
  },
  {
   "cell_type": "code",
   "execution_count": null,
   "metadata": {},
   "outputs": [],
   "source": []
  }
 ],
 "metadata": {
  "kernelspec": {
   "display_name": "Python 3",
   "language": "python",
   "name": "python3"
  },
  "language_info": {
   "codemirror_mode": {
    "name": "ipython",
    "version": 3
   },
   "file_extension": ".py",
   "mimetype": "text/x-python",
   "name": "python",
   "nbconvert_exporter": "python",
   "pygments_lexer": "ipython3",
   "version": "3.8.5"
  }
 },
 "nbformat": 4,
 "nbformat_minor": 4
}
