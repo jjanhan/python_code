{
 "cells": [
  {
   "cell_type": "markdown",
   "metadata": {},
   "source": [
    "<문제 : https://programmers.co.kr/learn/courses/30/lessons/77884>"
   ]
  },
  {
   "cell_type": "code",
   "execution_count": null,
   "metadata": {},
   "outputs": [],
   "source": []
  },
  {
   "cell_type": "markdown",
   "metadata": {},
   "source": [
    "## 약수의 개수와 덧셈  \n",
    "  \n",
    "  \n",
    "- 문제 설명\n",
    "> 두 정수 left와 right가 매개변수로 주어집니다. left부터 right까지의 모든 수들 중에서, 약수의 개수가 짝수인 수는 더하고, 약수의 개수가 홀수인 수는 뺀 수를 return 하도록 solution 함수를 완성해주세요.  \n",
    "  \n",
    "  \n",
    "\n",
    "- 제한사항  \n",
    "  \n",
    "  \n",
    "  - 1 ≤ left ≤ right ≤ 1,000  \n",
    "    \n",
    "      \n",
    "      \n",
    "- 입출력 예\n",
    "\n",
    "left|right|result\n",
    "--|--|--\n",
    "13|17|43\n",
    "24|27|52 \n",
    "  \n",
    "  \n",
    "- 입출력 예 설명  \n",
    "  \n",
    "----------\n",
    "\n",
    "  - 입출력 예 #1\n",
    "\n",
    "    - 다음 표는 13부터 17까지의 수들의 약수를 모두 나타낸 것입니다.\n",
    "     \n",
    "수|약수|약수의 개수\n",
    "--|--|--\n",
    "13|1, 13|2\n",
    "14|1, 2, 7, 14|4\n",
    "15|1, 3, 5, 15|4\n",
    "16|1, 2, 4, 8, 16|5\n",
    "17|1, 17|2\n",
    "\n",
    "  - 따라서, 13 + 14 + 15 - 16 + 17 = 43을 return 해야 합니다.  \n",
    "\n",
    "\n",
    "--------\n",
    "      \n",
    "  - 입출력 예 #2\n",
    "  \n",
    "    - 다음 표는 24부터 27까지의 수들의 약수를 모두 나타낸 것입니다.\n",
    "    \n",
    "수|약수|약수의 개수\n",
    "--|--|--\n",
    "24|1, 2, 3, 4, 6, 8, 12, 24|8\n",
    "25|1, 5, 25|3\n",
    "26|1, 2, 13, 26|4\n",
    "27|1, 3, 9, 27|4 \n",
    "\n",
    "  - 따라서, 24 - 25 + 26 + 27 = 52를 return 해야 합니다."
   ]
  },
  {
   "cell_type": "code",
   "execution_count": null,
   "metadata": {},
   "outputs": [],
   "source": []
  },
  {
   "cell_type": "markdown",
   "metadata": {},
   "source": [
    "### 알고리즘  \n",
    "  \n",
    "- 약수에 대한 수학적 고찰\n",
    "  - 소수부분에서도 언급했듯이 숫자는 곱의 형태로 표현됩니다.\n",
    "    - 일반적으로 쌍으로 존재하는 것입니다. 즉 약수 개수가 짝수입니다.\n",
    "    - 약수 개수가 홀수 : 같은 값으로 곱해지는 경우 -> 제곱인 경우입니다\n",
    "    - 예 : 36 = 1x36 = 2x18 = 3x12 = 4x9 = 6x6(제곱) : 약수 개수가 홀수  \n",
    "      \n",
    "- 범위 내에 있는 제곱수를 찾습니다\n",
    "  - 제곱수 찾기 : int(n ** 0.5) ** 2 == n  \n",
    "    \n",
    "    \n",
    "  - 예 1\n",
    "    - n = 5 \n",
    "    - n ** 0.5 = 2.2\n",
    "    - int(n ** 0.5) = 2\n",
    "    - int(n ** 0.5) ** 2 = 2^2 = 4 : 5가 아닙니다\n",
    "    - n = 5 : 제곱수가 아닙니다  \n",
    "      \n",
    "      \n",
    "  - 예 2\n",
    "    - n = 16 \n",
    "    - n ** 0.5 = 4\n",
    "    - int(n ** 0.5) = 4\n",
    "    - int(n ** 0.5) ** 2 = 4^2 = 16 : 16입니다\n",
    "    - n = 16 : 제곱수입니다\n",
    "    \n",
    "      \n",
    "- 범위 : 13 ~ 17\n",
    "  - start_int = int(13 ** 0.5) = int(3.605) = 3\n",
    "    - 13이 제곱수가 아니므로 start_int에 1을 더합니다\n",
    "    - if 문으로 제곱수일 때와 아닐 때를 나눴습니다\n",
    "  - end_int = int(17 ** 0.5) = int(4.123) = 4\n",
    "    - 제곱수를 계산할 때 4가 포함되어야 합니다\n",
    "    - 순환문 : range(start_int, end_int+1) - 이렇게 해야 4 제곱을 계산합니다  \n",
    "      \n",
    "      \n",
    "  - 범위내의 제곱수는 4의 제곱인 16뿐입니다. 16만 약수 개수가 홀수입니다  \n",
    "    \n",
    "      \n",
    "- 결과\n",
    "  - 13 ~ 17까지 모든 수를 더합니다. 16도 더했습니다.\n",
    "  - 이 값에 16x2를 빼준 값을 반환하면 됩니다"
   ]
  },
  {
   "cell_type": "code",
   "execution_count": null,
   "metadata": {},
   "outputs": [],
   "source": []
  },
  {
   "cell_type": "code",
   "execution_count": 13,
   "metadata": {},
   "outputs": [
    {
     "name": "stdout",
     "output_type": "stream",
     "text": [
      "1 5\n"
     ]
    }
   ],
   "source": [
    "a = 3**0.5\n",
    "b = 35**0.5\n",
    "print(int(a), int(b))"
   ]
  },
  {
   "cell_type": "code",
   "execution_count": null,
   "metadata": {},
   "outputs": [],
   "source": []
  },
  {
   "cell_type": "code",
   "execution_count": 2,
   "metadata": {},
   "outputs": [
    {
     "data": {
      "text/plain": [
       "10.0"
      ]
     },
     "execution_count": 2,
     "metadata": {},
     "output_type": "execute_result"
    }
   ],
   "source": [
    "import math\n",
    "\n",
    "math.sqrt(100)"
   ]
  },
  {
   "cell_type": "code",
   "execution_count": 3,
   "metadata": {},
   "outputs": [
    {
     "data": {
      "text/plain": [
       "True"
      ]
     },
     "execution_count": 3,
     "metadata": {},
     "output_type": "execute_result"
    }
   ],
   "source": [
    "def issquare(n):\n",
    "    return int(n ** 0.5) ** 2 == n\n",
    "\n",
    "issquare(100)"
   ]
  },
  {
   "cell_type": "code",
   "execution_count": 4,
   "metadata": {},
   "outputs": [
    {
     "data": {
      "text/plain": [
       "-1"
      ]
     },
     "execution_count": 4,
     "metadata": {},
     "output_type": "execute_result"
    }
   ],
   "source": [
    "def issquare(n):\n",
    "    if int(n**0.5)**2 == n:\n",
    "        return -1\n",
    "    else:\n",
    "        return 1\n",
    "\n",
    "issquare(100)"
   ]
  },
  {
   "cell_type": "code",
   "execution_count": null,
   "metadata": {},
   "outputs": [],
   "source": []
  },
  {
   "cell_type": "code",
   "execution_count": 14,
   "metadata": {},
   "outputs": [],
   "source": [
    "def solution(left, right):\n",
    "    answer = 0\n",
    "    a = 0\n",
    "    \n",
    "    if int(left ** 0.5) ** 2 == left:\n",
    "        start_int = int(left**0.5)\n",
    "    else:\n",
    "        start_int = int(left**0.5) + 1\n",
    "        \n",
    "    end_int = int(right**0.5)\n",
    "    \n",
    "    for i in range(left, right + 1):\n",
    "        answer += i\n",
    "    \n",
    "    for i in range(start_int, end_int+1):\n",
    "        a += i*i\n",
    "    return answer - 2*a"
   ]
  },
  {
   "cell_type": "code",
   "execution_count": 15,
   "metadata": {},
   "outputs": [
    {
     "name": "stdout",
     "output_type": "stream",
     "text": [
      "43\n"
     ]
    }
   ],
   "source": [
    "print(solution(13, 17))"
   ]
  }
 ],
 "metadata": {
  "kernelspec": {
   "display_name": "Python 3",
   "language": "python",
   "name": "python3"
  },
  "language_info": {
   "codemirror_mode": {
    "name": "ipython",
    "version": 3
   },
   "file_extension": ".py",
   "mimetype": "text/x-python",
   "name": "python",
   "nbconvert_exporter": "python",
   "pygments_lexer": "ipython3",
   "version": "3.8.5"
  }
 },
 "nbformat": 4,
 "nbformat_minor": 4
}
