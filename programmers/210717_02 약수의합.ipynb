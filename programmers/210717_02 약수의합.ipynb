{
 "cells": [
  {
   "cell_type": "markdown",
   "metadata": {},
   "source": [
    "<문제 : https://programmers.co.kr/learn/courses/30/lessons/12928>"
   ]
  },
  {
   "cell_type": "code",
   "execution_count": null,
   "metadata": {},
   "outputs": [],
   "source": []
  },
  {
   "cell_type": "markdown",
   "metadata": {},
   "source": [
    "## 문제 : 약수의 합  \n",
    "  \n",
    "  \n",
    "- 문제 설명\n",
    "  - 정수 n을 입력받아 n의 약수를 모두 더한 값을 리턴하는 함수, solution을 완성해주세요.\n",
    "\n",
    "- 제한 사항\n",
    "  - n은 0 이상 3000이하인 정수입니다.  \n",
    "    \n",
    "    \n",
    "- 입출력 예\n",
    "\n",
    "n|return\n",
    "--|--\n",
    "12|28\n",
    "5|6 \n",
    "  \n",
    "  \n",
    "- 입출력 예 설명  \n",
    "  - 입출력 예 #1\n",
    "    - 12의 약수는 1, 2, 3, 4, 6, 12입니다. 이를 모두 더하면 28입니다.  \n",
    "      \n",
    "  - 입출력 예 #2\n",
    "    - 5의 약수는 1, 5입니다. 이를 모두 더하면 6입니다."
   ]
  },
  {
   "cell_type": "code",
   "execution_count": null,
   "metadata": {},
   "outputs": [],
   "source": []
  },
  {
   "cell_type": "markdown",
   "metadata": {},
   "source": [
    "### 알고리즘  \n",
    "  \n",
    "    \n",
    "- 약수에 대한 수학적 고찰\n",
    "  - a, b, c가 소수라고 하고 자연수 N을 소인수분해 했을 때\n",
    "  - $N = a^x b^y c^z$\n",
    "  - 양의 약수의 개수 : $(x+1) (y+1) (z+1)$\n",
    "  - 양의 약수의 합 : $(a^0 + a^1 + ... + a^x) (b^0 + b^1 + ... + b^y) (c^0 + c^1 + ... + c^z)$  \n",
    "    - a의 지수가 0부터 시작되기에 x보다 1만큼 더 계산해야 합니다  \n",
    "      \n",
    "        \n",
    "        \n",
    "- n의 약수는 곱해져서 n이 되는 두 수(제곱인 경우는 숫자 한 개)가 약수입니다\n",
    "  - 에라토스테네스의 체로 구현했던 것처럼 1부터 $\\sqrt{n}$까지 숫자로 나누어봅니다\n",
    "  - 나누어 떨어지는 경우는 약수가 됩니다.  \n",
    "    \n",
    "      \n",
    "- devisor = [] : 약수를 넣을 리스트입니다\n",
    "  - if n % i == 0: n이 i로 나누어 떨어지는지를 확인합니다\n",
    "    - 참인 경우 : i와 몫인 n//i가 약수가 됩니다\n",
    "      - 8 % 2 == 0 : 8을 2로 나눈 나머지는 0입니다\n",
    "      - 8 // 2 = 4 : 8을 2로 나눈 몫은 4입니다\n",
    "      - 2, 4가 약수입니다  \n",
    "        \n",
    "      - if i == n//i: 제곱이 되는 수이므로 하나만 devisor에 추가합니다\n",
    "        - 위에 devisor.append(i)로 추가를 했으므로 continue로 뒤의 명령문을 실행하지 않습니다  \n",
    "          \n",
    "  - sum(devisor) : 합을 반환합니다  \n",
    "    \n",
    "      \n",
    "- 오류가 2개 발생합니다\n",
    "  - 수정하고 디버깅 하는 것은 아래 마크다운 셀을 참조해서 보십시오"
   ]
  },
  {
   "cell_type": "code",
   "execution_count": null,
   "metadata": {},
   "outputs": [],
   "source": []
  },
  {
   "cell_type": "code",
   "execution_count": 9,
   "metadata": {},
   "outputs": [],
   "source": [
    "def solution(n):\n",
    "    devisor = [1, n]\n",
    "    \n",
    "    for i in range(2, int(n**0.5)+1):\n",
    "        if n % i == 0:\n",
    "            devisor.append(i)\n",
    "            if i == (n // i):\n",
    "                continue\n",
    "            devisor.append(n // i)\n",
    "            continue\n",
    "    \n",
    "    return sum(devisor)"
   ]
  },
  {
   "cell_type": "code",
   "execution_count": 10,
   "metadata": {},
   "outputs": [
    {
     "name": "stdout",
     "output_type": "stream",
     "text": [
      "28\n"
     ]
    }
   ],
   "source": [
    "print(solution(12))"
   ]
  },
  {
   "cell_type": "markdown",
   "metadata": {},
   "source": [
    "### 채점을 시작합니다.\n",
    "- 정확성  테스트\n",
    "  - **테스트 1 〉\t실패 (0.01ms, 10.1MB)**\n",
    "  - 테스트 2 〉\t통과 (0.02ms, 10.3MB)\n",
    "  - 테스트 3 〉\t통과 (0.02ms, 10.2MB)\n",
    "  - 테스트 4 〉\t통과 (0.02ms, 10.2MB)\n",
    "  - 테스트 5 〉\t통과 (0.02ms, 10.3MB)\n",
    "  - 테스트 6 〉\t통과 (0.02ms, 10.1MB)\n",
    "  - 테스트 7 〉\t통과 (0.02ms, 10.3MB)\n",
    "  - 테스트 8 〉\t통과 (0.02ms, 10.3MB)\n",
    "  - 테스트 9 〉\t통과 (0.02ms, 10.2MB)\n",
    "  - 테스트 10 〉\t통과 (0.03ms, 10.3MB)\n",
    "  - 테스트 11 〉\t통과 (0.02ms, 10.2MB)\n",
    "  - 테스트 12 〉\t통과 (0.02ms, 10.2MB)\n",
    "  - 테스트 13 〉\t통과 (0.02ms, 10.2MB)\n",
    "  - 테스트 14 〉\t통과 (0.02ms, 10.2MB)\n",
    "  - 테스트 15 〉\t통과 (0.02ms, 10.2MB)\n",
    "  - **테스트 16 〉\t실패 (0.01ms, 10.1MB)**\n",
    "  - 테스트 17 〉\t통과 (0.02ms, 10.3MB)  \n",
    "    \n",
    "    \n",
    "    \n",
    "- 채점 결과\n",
    "  - 정확성: 88.2\n",
    "  - 합계: 88.2 / 100.0"
   ]
  },
  {
   "cell_type": "code",
   "execution_count": null,
   "metadata": {},
   "outputs": [],
   "source": []
  },
  {
   "cell_type": "markdown",
   "metadata": {},
   "source": [
    "- n=1 일 때 오류 : 테스트 1이 고쳐졌습니다\n",
    "```python\n",
    "def solution(n):\n",
    "    if n == 1:\n",
    "        return 1\n",
    "    ...\n",
    "```\n",
    "\n",
    "- 테스트 16에서 오류\n",
    "  - print문을 추가하여 살펴봤습니다\n",
    "    - range(1, 20) : 약수의 합이 제대로 계산되었습니다\n",
    "    - range(20, 40) : 이 경우도 모두 정확했습니다\n",
    "  - 계속해서 오류 발생했습니다\n",
    "  \n",
    "```python\n",
    "\n",
    "for i in range(20, 40):\n",
    "    print(solution(i), \"\\n\")\n",
    "    \n",
    "```"
   ]
  },
  {
   "cell_type": "code",
   "execution_count": 13,
   "metadata": {},
   "outputs": [],
   "source": [
    "def solution(n):\n",
    "    if n == 1:\n",
    "        return 1\n",
    "    \n",
    "    devisor = [1, n]\n",
    "    \n",
    "    for i in range(2, int(n**0.5)+1):\n",
    "        if n % i == 0:\n",
    "            devisor.append(i)\n",
    "            if i == (n // i):\n",
    "                continue\n",
    "            devisor.append(n // i)\n",
    "            continue\n",
    "            \n",
    "    print(devisor)\n",
    "    \n",
    "    return sum(devisor)"
   ]
  },
  {
   "cell_type": "code",
   "execution_count": 15,
   "metadata": {},
   "outputs": [
    {
     "name": "stdout",
     "output_type": "stream",
     "text": [
      "[1, 20, 2, 10, 4, 5]\n",
      "42 \n",
      "\n",
      "[1, 21, 3, 7]\n",
      "32 \n",
      "\n",
      "[1, 22, 2, 11]\n",
      "36 \n",
      "\n",
      "[1, 23]\n",
      "24 \n",
      "\n",
      "[1, 24, 2, 12, 3, 8, 4, 6]\n",
      "60 \n",
      "\n",
      "[1, 25, 5]\n",
      "31 \n",
      "\n",
      "[1, 26, 2, 13]\n",
      "42 \n",
      "\n",
      "[1, 27, 3, 9]\n",
      "40 \n",
      "\n",
      "[1, 28, 2, 14, 4, 7]\n",
      "56 \n",
      "\n",
      "[1, 29]\n",
      "30 \n",
      "\n",
      "[1, 30, 2, 15, 3, 10, 5, 6]\n",
      "72 \n",
      "\n",
      "[1, 31]\n",
      "32 \n",
      "\n",
      "[1, 32, 2, 16, 4, 8]\n",
      "63 \n",
      "\n",
      "[1, 33, 3, 11]\n",
      "48 \n",
      "\n",
      "[1, 34, 2, 17]\n",
      "54 \n",
      "\n",
      "[1, 35, 5, 7]\n",
      "48 \n",
      "\n",
      "[1, 36, 2, 18, 3, 12, 4, 9, 6]\n",
      "91 \n",
      "\n",
      "[1, 37]\n",
      "38 \n",
      "\n",
      "[1, 38, 2, 19]\n",
      "60 \n",
      "\n",
      "[1, 39, 3, 13]\n",
      "56 \n",
      "\n"
     ]
    }
   ],
   "source": [
    "for i in range(20, 40):\n",
    "    print(solution(i), \"\\n\")"
   ]
  },
  {
   "cell_type": "code",
   "execution_count": null,
   "metadata": {},
   "outputs": [],
   "source": []
  },
  {
   "cell_type": "markdown",
   "metadata": {},
   "source": [
    "- 문제를 다시 살펴봤습니다\n",
    "  - n = 0 인 경우를 고려하지 않았습니다.\n",
    "  - 아래와 같이 코드를 수정하여 제출하였습니다.\n",
    "  \n",
    "```python\n",
    "def solution(n):\n",
    "    if n <= 1:\n",
    "        return n\n",
    "    ...\n",
    "```\n"
   ]
  },
  {
   "cell_type": "markdown",
   "metadata": {},
   "source": [
    "#### 제출한 코드입니다"
   ]
  },
  {
   "cell_type": "code",
   "execution_count": 16,
   "metadata": {},
   "outputs": [],
   "source": [
    "def solution(n):\n",
    "    if n <= 1:\n",
    "        return n\n",
    "\n",
    "    devisor = [1, n]\n",
    "    \n",
    "    for i in range(2, int(n**0.5)+1):\n",
    "        if n % i == 0:\n",
    "            devisor.append(i)\n",
    "            if i == (n // i):\n",
    "                continue\n",
    "            devisor.append(n // i)\n",
    "            continue\n",
    "    \n",
    "    return sum(devisor)"
   ]
  },
  {
   "cell_type": "code",
   "execution_count": null,
   "metadata": {},
   "outputs": [],
   "source": []
  }
 ],
 "metadata": {
  "kernelspec": {
   "display_name": "Python 3",
   "language": "python",
   "name": "python3"
  },
  "language_info": {
   "codemirror_mode": {
    "name": "ipython",
    "version": 3
   },
   "file_extension": ".py",
   "mimetype": "text/x-python",
   "name": "python",
   "nbconvert_exporter": "python",
   "pygments_lexer": "ipython3",
   "version": "3.8.5"
  }
 },
 "nbformat": 4,
 "nbformat_minor": 4
}
