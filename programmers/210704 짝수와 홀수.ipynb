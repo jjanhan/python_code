{
 "cells": [
  {
   "cell_type": "markdown",
   "metadata": {},
   "source": [
    "<문제 출처 : https://programmers.co.kr/learn/courses/30/lessons/12937>"
   ]
  },
  {
   "cell_type": "markdown",
   "metadata": {},
   "source": [
    "## 문제 : 짝수와 홀수  \n",
    "  \n",
    "\n",
    "### 문제 설명\n",
    "  - 정수 num이 짝수일 경우 \"Even\"을 반환하고 홀수인 경우 \"Odd\"를 반환하는 함수, solution을 완성해주세요.  \n",
    "    \n",
    "\n",
    "### 제한 조건\n",
    "  - num은 int 범위의 정수입니다.\n",
    "  - 0은 짝수입니다.  \n",
    "    \n",
    "    \n",
    "  - 입출력 예\n",
    "num|return\n",
    "--|--\n",
    "3|\"Odd\"\n",
    "4|\"Even\""
   ]
  },
  {
   "cell_type": "code",
   "execution_count": null,
   "metadata": {},
   "outputs": [],
   "source": []
  },
  {
   "cell_type": "markdown",
   "metadata": {},
   "source": [
    "나머지 연산자를 사용하여 간단히 작성했습니다."
   ]
  },
  {
   "cell_type": "code",
   "execution_count": 1,
   "metadata": {},
   "outputs": [],
   "source": [
    "def solution(num):\n",
    "    odd_even = ['Even', 'Odd']\n",
    "    \n",
    "    return odd_even[num%2]"
   ]
  },
  {
   "cell_type": "code",
   "execution_count": 4,
   "metadata": {},
   "outputs": [
    {
     "name": "stdout",
     "output_type": "stream",
     "text": [
      "4718   Even\n",
      "3623   Odd\n",
      "3019   Odd\n",
      "5505   Odd\n",
      "3148   Even\n",
      "9545   Odd\n",
      "9408   Even\n",
      "5235   Odd\n",
      "8378   Even\n",
      "5496   Even\n"
     ]
    }
   ],
   "source": [
    "import random\n",
    "\n",
    "for i in range(10):\n",
    "    num = random.randint(0, 10000)\n",
    "    print(num, \" \", solution(num))"
   ]
  },
  {
   "cell_type": "code",
   "execution_count": null,
   "metadata": {},
   "outputs": [],
   "source": []
  }
 ],
 "metadata": {
  "kernelspec": {
   "display_name": "Python 3",
   "language": "python",
   "name": "python3"
  },
  "language_info": {
   "codemirror_mode": {
    "name": "ipython",
    "version": 3
   },
   "file_extension": ".py",
   "mimetype": "text/x-python",
   "name": "python",
   "nbconvert_exporter": "python",
   "pygments_lexer": "ipython3",
   "version": "3.8.5"
  }
 },
 "nbformat": 4,
 "nbformat_minor": 4
}
