{
 "cells": [
  {
   "cell_type": "markdown",
   "metadata": {},
   "source": [
    "<문제 : https://programmers.co.kr/learn/courses/30/lessons/76501>"
   ]
  },
  {
   "cell_type": "code",
   "execution_count": null,
   "metadata": {},
   "outputs": [],
   "source": []
  },
  {
   "cell_type": "markdown",
   "metadata": {},
   "source": [
    "## 문제 : 음양 더하기  \n",
    "\n",
    "- 문제 설명\n",
    "> 어떤 정수들이 있습니다. 이 정수들의 절댓값을 차례대로 담은 정수 배열 absolutes와 이 정수들의 부호를 차례대로 담은 불리언 배열 signs가 매개변수로 주어집니다. 실제 정수들의 합을 구하여 return 하도록 solution 함수를 완성해주세요.\n",
    "\n",
    "- 제한사항\n",
    "  - absolutes의 길이는 1 이상 1,000 이하입니다.\n",
    "  - absolutes의 모든 수는 각각 1 이상 1,000 이하입니다.\n",
    "  - signs의 길이는 absolutes의 길이와 같습니다.\n",
    "  - signs[i] 가 참이면 absolutes[i] 의 실제 정수가 양수임을, 그렇지 않으면 음수임을 의미합니다.  \n",
    "    \n",
    "    \n",
    "- 입출력 예\n",
    "\n",
    "absolutes|signs|result\n",
    "--|--|--\n",
    "[4,7,12]|[true,false,true]|9\n",
    "[1,2,3]|[false,false,true]|0 \n",
    "  \n",
    "  \n",
    "- 입출력 예 설명  \n",
    "\n",
    "  - 입출력 예 #1\n",
    "\n",
    "    - signs가 [true,false,true] 이므로, 실제 수들의 값은 각각 4, -7, 12입니다.\n",
    "    - 따라서 세 수의 합인 9를 return 해야 합니다.  \n",
    "  \n",
    "  - 입출력 예 #2\n",
    "\n",
    "    - signs가 [false,false,true] 이므로, 실제 수들의 값은 각각 -1, -2, 3입니다.\n",
    "    - 따라서 세 수의 합인 0을 return 해야 합니다."
   ]
  },
  {
   "cell_type": "code",
   "execution_count": null,
   "metadata": {},
   "outputs": [],
   "source": []
  },
  {
   "cell_type": "markdown",
   "metadata": {},
   "source": [
    "### 알고리즘\n",
    "- 오류 : signs = [True, False, True]\n",
    "  - 파이썬에서 boolean 값은 첫 문자가 대문자여야 함  \n",
    "    \n",
    "- 리스트 만들기\n",
    "  - 딕셔너리\n",
    "    - val = {True: 1, False: -1}\n",
    "    - 딕셔너리의 키값이 boolean이어도 됩니다\n",
    "    - 이것을 확인하기 위해 연습을 해 봤습니다  \n",
    "    \n",
    "  - a = [val.get(i) for i in signs] : \n",
    "    - signs의 성분이 True : 1\n",
    "    - signs의 성분이 False : -1\n",
    "    - 이 값을 저장하는 리스트가 됩니다 : a   \n",
    "    \n",
    "- absolutes와 a의 곱\n",
    "  - numpy의 multiply(list1, list2) : 스칼라 곱 - 내적과 동일\n",
    "  - list(map(lambda x, y : x * y ,list1,list2)) : 스칼라 곱  \n",
    "    \n",
    "  - 이렇게 곱한 값의 합을 반환하면 됩니다"
   ]
  },
  {
   "cell_type": "code",
   "execution_count": null,
   "metadata": {},
   "outputs": [],
   "source": []
  },
  {
   "cell_type": "markdown",
   "metadata": {},
   "source": [
    "- 연습한 코드입니다"
   ]
  },
  {
   "cell_type": "code",
   "execution_count": 16,
   "metadata": {},
   "outputs": [
    {
     "data": {
      "text/plain": [
       "[1, -1, 1]"
      ]
     },
     "execution_count": 16,
     "metadata": {},
     "output_type": "execute_result"
    }
   ],
   "source": [
    "a = [True, False, True]\n",
    "val = {True: 1, False: -1}\n",
    "\n",
    "b = [1, 2, 3]\n",
    "\n",
    "aa = [val.get(i) for i in a]\n",
    "aa"
   ]
  },
  {
   "cell_type": "code",
   "execution_count": 17,
   "metadata": {},
   "outputs": [
    {
     "data": {
      "text/plain": [
       "[1, -2, 3]"
      ]
     },
     "execution_count": 17,
     "metadata": {},
     "output_type": "execute_result"
    }
   ],
   "source": [
    "ans = list(map(lambda x,y: x*y ,aa,b))\n",
    "ans"
   ]
  },
  {
   "cell_type": "code",
   "execution_count": 19,
   "metadata": {},
   "outputs": [
    {
     "data": {
      "text/plain": [
       "2"
      ]
     },
     "execution_count": 19,
     "metadata": {},
     "output_type": "execute_result"
    }
   ],
   "source": [
    "sum(ans)"
   ]
  },
  {
   "cell_type": "code",
   "execution_count": null,
   "metadata": {},
   "outputs": [],
   "source": []
  },
  {
   "cell_type": "markdown",
   "metadata": {},
   "source": [
    "- boolean 값에 대한 오류입니다"
   ]
  },
  {
   "cell_type": "code",
   "execution_count": 30,
   "metadata": {},
   "outputs": [],
   "source": [
    "def solution(absolutes, signs):\n",
    "    val = {true: 1, false: -1}\n",
    "    a = [val.get(i) for i in signs]\n",
    "    return sum(list(map(lambda x, y: x * y, absolutes, a)))"
   ]
  },
  {
   "cell_type": "code",
   "execution_count": 31,
   "metadata": {},
   "outputs": [
    {
     "ename": "NameError",
     "evalue": "name 'true' is not defined",
     "output_type": "error",
     "traceback": [
      "\u001b[1;31m---------------------------------------------------------------------------\u001b[0m",
      "\u001b[1;31mNameError\u001b[0m                                 Traceback (most recent call last)",
      "\u001b[1;32m<ipython-input-31-f26e5df0a1f8>\u001b[0m in \u001b[0;36m<module>\u001b[1;34m\u001b[0m\n\u001b[0;32m      1\u001b[0m test_bool_inputs = [\n\u001b[1;32m----> 2\u001b[1;33m     \u001b[1;33m[\u001b[0m\u001b[1;33m[\u001b[0m\u001b[1;36m4\u001b[0m\u001b[1;33m,\u001b[0m\u001b[1;36m7\u001b[0m\u001b[1;33m,\u001b[0m\u001b[1;36m12\u001b[0m\u001b[1;33m]\u001b[0m\u001b[1;33m,\u001b[0m \u001b[1;33m[\u001b[0m\u001b[0mtrue\u001b[0m\u001b[1;33m,\u001b[0m \u001b[0mfalse\u001b[0m\u001b[1;33m,\u001b[0m \u001b[0mtrue\u001b[0m\u001b[1;33m]\u001b[0m\u001b[1;33m]\u001b[0m\u001b[1;33m,\u001b[0m\u001b[1;33m\u001b[0m\u001b[1;33m\u001b[0m\u001b[0m\n\u001b[0m\u001b[0;32m      3\u001b[0m     \u001b[1;33m[\u001b[0m\u001b[1;33m[\u001b[0m\u001b[1;36m1\u001b[0m\u001b[1;33m,\u001b[0m\u001b[1;36m2\u001b[0m\u001b[1;33m,\u001b[0m\u001b[1;36m3\u001b[0m\u001b[1;33m]\u001b[0m\u001b[1;33m,\u001b[0m \u001b[1;33m[\u001b[0m\u001b[0mfalse\u001b[0m\u001b[1;33m,\u001b[0m \u001b[0mfalse\u001b[0m\u001b[1;33m,\u001b[0m \u001b[0mtrue\u001b[0m\u001b[1;33m]\u001b[0m\u001b[1;33m]\u001b[0m\u001b[1;33m\u001b[0m\u001b[1;33m\u001b[0m\u001b[0m\n\u001b[0;32m      4\u001b[0m ]\n\u001b[0;32m      5\u001b[0m \u001b[1;33m\u001b[0m\u001b[0m\n",
      "\u001b[1;31mNameError\u001b[0m: name 'true' is not defined"
     ]
    }
   ],
   "source": [
    "test_bool_inputs = [\n",
    "    [[4,7,12], [true, false, true]],\n",
    "    [[1,2,3], [false, false, true]]\n",
    "]\n",
    "\n",
    "for absolutes, signs in test_bool_inputs:\n",
    "    print(solution(absolutes, signs))"
   ]
  },
  {
   "cell_type": "code",
   "execution_count": null,
   "metadata": {},
   "outputs": [],
   "source": []
  },
  {
   "cell_type": "markdown",
   "metadata": {},
   "source": [
    "#### 제출한 코드입니다"
   ]
  },
  {
   "cell_type": "code",
   "execution_count": 23,
   "metadata": {},
   "outputs": [],
   "source": [
    "def solution_bool(absolutes, signs):\n",
    "    val = {True: 1, False: -1}\n",
    "    a = [val.get(i) for i in signs]\n",
    "    return sum(list(map(lambda x, y: x * y, absolutes, a)))"
   ]
  },
  {
   "cell_type": "code",
   "execution_count": 24,
   "metadata": {},
   "outputs": [
    {
     "name": "stdout",
     "output_type": "stream",
     "text": [
      "9\n",
      "0\n"
     ]
    }
   ],
   "source": [
    "test_bool_inputs = [\n",
    "    [[4,7,12], [True, False, True]],\n",
    "    [[1,2,3], [False, False, True]]\n",
    "]\n",
    "\n",
    "for absolutes, signs in test_bool_inputs:\n",
    "    print(solution_bool(absolutes, signs))"
   ]
  },
  {
   "cell_type": "code",
   "execution_count": null,
   "metadata": {},
   "outputs": [],
   "source": []
  },
  {
   "cell_type": "code",
   "execution_count": 33,
   "metadata": {},
   "outputs": [],
   "source": [
    "def solution_np(absolutes, signs):\n",
    "    import numpy as np\n",
    "    \n",
    "    val = {True: 1, False: -1}\n",
    "    a = [val.get(i) for i in signs]\n",
    "    return sum(np.multiply(absolutes, a))"
   ]
  },
  {
   "cell_type": "code",
   "execution_count": 34,
   "metadata": {},
   "outputs": [
    {
     "name": "stdout",
     "output_type": "stream",
     "text": [
      "9\n",
      "0\n"
     ]
    }
   ],
   "source": [
    "test_bool_inputs = [\n",
    "    [[4,7,12], [True, False, True]],\n",
    "    [[1,2,3], [False, False, True]]\n",
    "]\n",
    "\n",
    "for absolutes, signs in test_bool_inputs:\n",
    "    print(solution_np(absolutes, signs))"
   ]
  },
  {
   "cell_type": "code",
   "execution_count": null,
   "metadata": {},
   "outputs": [],
   "source": []
  }
 ],
 "metadata": {
  "kernelspec": {
   "display_name": "Python 3",
   "language": "python",
   "name": "python3"
  },
  "language_info": {
   "codemirror_mode": {
    "name": "ipython",
    "version": 3
   },
   "file_extension": ".py",
   "mimetype": "text/x-python",
   "name": "python",
   "nbconvert_exporter": "python",
   "pygments_lexer": "ipython3",
   "version": "3.8.5"
  }
 },
 "nbformat": 4,
 "nbformat_minor": 4
}
