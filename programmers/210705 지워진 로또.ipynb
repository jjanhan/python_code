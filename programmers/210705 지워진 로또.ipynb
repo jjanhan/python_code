{
 "cells": [
  {
   "cell_type": "markdown",
   "metadata": {},
   "source": [
    "<문제참조 : https://programmers.co.kr/learn/courses/30/lessons/77484?language=python3>"
   ]
  },
  {
   "cell_type": "markdown",
   "metadata": {},
   "source": [
    "## 문제 : 로또의 최고 순위와 최저 순위\n",
    "\n",
    "### 문제 설명\n",
    "  - 로또 6/45(이하 '로또'로 표기)는 1부터 45까지의 숫자 중 6개를 찍어서 맞히는 대표적인 복권입니다. 아래는 로또의 순위를 정하는 방식입니다. 1\n",
    "\n",
    "순위|당첨 내용\n",
    "--|--\n",
    "1|6개 번호가 모두 일치\n",
    "2|5개 번호가 일치\n",
    "3|4개 번호가 일치\n",
    "4|3개 번호가 일치\n",
    "5|2개 번호가 일치\n",
    "6(낙첨)|그 외\n",
    "  \n",
    "    \n",
    "    \n",
    "  - 로또를 구매한 민우는 당첨 번호 발표일을 학수고대하고 있었습니다. 하지만, 민우의 동생이 로또에 낙서를 하여, 일부 번호를 알아볼 수 없게 되었습니다. 당첨 번호 발표 후, 민우는 자신이 구매했던 로또로 당첨이 가능했던 최고 순위와 최저 순위를 알아보고 싶어 졌습니다.\n",
    "  - 알아볼 수 없는 번호를 0으로 표기하기로 하고, 민우가 구매한 로또 번호 6개가 44, 1, 0, 0, 31 25라고 가정해보겠습니다. 당첨 번호 6개가 31, 10, 45, 1, 6, 19라면, 당첨 가능한 최고 순위와 최저 순위의 한 예는 아래와 같습니다.  \n",
    "    \n",
    "    \n",
    "  - 당첨 번호\t31\t10\t45\t1\t6\t19\t결과\n",
    "  - 최고 순위 번호\t31\t0→10\t44\t1\t0→6\t25\t4개 번호 일치, 3등\n",
    "  - 최저 순위 번호\t31\t0→11\t44\t1\t0→7\t25\t2개 번호 일치, 5등  \n",
    "    \n",
    "    \n",
    "  - 순서와 상관없이, 구매한 로또에 당첨 번호와 일치하는 번호가 있으면 맞힌 걸로 인정됩니다.\n",
    "  - 알아볼 수 없는 두 개의 번호를 각각 10, 6이라고 가정하면 3등에 당첨될 수 있습니다.\n",
    "  - 3등을 만드는 다른 방법들도 존재합니다. 하지만, 2등 이상으로 만드는 것은 불가능합니다.\n",
    "  - 알아볼 수 없는 두 개의 번호를 각각 11, 7이라고 가정하면 5등에 당첨될 수 있습니다.\n",
    "  - 5등을 만드는 다른 방법들도 존재합니다. 하지만, 6등(낙첨)으로 만드는 것은 불가능합니다.\n",
    "  - 민우가 구매한 로또 번호를 담은 배열 lottos, 당첨 번호를 담은 배열 win_nums가 매개변수로 주어집니다. 이때, 당첨 가능한 최고 순위와 최저 순위를 차례대로 배열에 담아서 return 하도록 solution 함수를 완성해주세요.  \n",
    "    \n",
    "      \n",
    "      \n",
    "\n",
    "### 제한사항\n",
    "  - lottos는 길이 6인 정수 배열입니다.\n",
    "  - lottos의 모든 원소는 0 이상 45 이하인 정수입니다.\n",
    "  - 0은 알아볼 수 없는 숫자를 의미합니다.\n",
    "  - 0을 제외한 다른 숫자들은 lottos에 2개 이상 담겨있지 않습니다.\n",
    "  - lottos의 원소들은 정렬되어 있지 않을 수도 있습니다.  \n",
    "    \n",
    "    \n",
    "  - win_nums은 길이 6인 정수 배열입니다.\n",
    "  - win_nums의 모든 원소는 1 이상 45 이하인 정수입니다.\n",
    "  - win_nums에는 같은 숫자가 2개 이상 담겨있지 않습니다.\n",
    "  - win_nums의 원소들은 정렬되어 있지 않을 수도 있습니다."
   ]
  },
  {
   "cell_type": "code",
   "execution_count": null,
   "metadata": {},
   "outputs": [],
   "source": []
  },
  {
   "cell_type": "markdown",
   "metadata": {},
   "source": [
    "## 알고리즘(algorithm) : 절차\n",
    "  - 변수\n",
    "    - lottos : 민우가 구매한 로또 번호\n",
    "    - win_numbs : 당첨 번호  \n",
    "      \n",
    "      \n",
    "  - 지워진 개수를 제외하고 당첨번호와 몇 개가 맞는지 확인\n",
    "    - 최고 순위 : 지워진 숫자 모두 당첨번호와 일치\n",
    "    - 최저 순위 : 지워진 숫자를 제외하고 당첨번호와 일치하는 경우 / 지워진 숫자가 모두 틀린 경우  \n",
    "      \n",
    "      \n",
    "  - lottos / win_nums : 정렬\n",
    "  - 지워진 숫자 개수 : 0으로 표시된 숫자 개수 파악 \n",
    "    - count 함수 이용\n",
    "    - zero_count = lottos.count(0)\n",
    "  - 일치하는 숫자 파악\n",
    "    - 중복되지 않도록 하기 위해서 집합형 변수로 변환하여 계산\n",
    "    - set(win_nums) - set(lottos) : 일치하지 않은 경우\n",
    "      - lottos에 '0'이 여러개 존재 가능하기 때문에 차집합의 순서를 바꾸지 않도록 해야합니다\n",
    "    - 일치하는 경우 : same_num = 6 - len(set(win_nums) - set(lottos))  \n",
    "      \n",
    "    - 최고 순위 : grade_high = 6 - (same_num + zero_count) + 1\n",
    "    - 최저 순위 : grade_low =6 - same_num + 1\n",
    "  "
   ]
  },
  {
   "cell_type": "code",
   "execution_count": 1,
   "metadata": {},
   "outputs": [],
   "source": [
    "def solution(lottos, win_nums):\n",
    "    lottos.sort()\n",
    "    win_nums.sort()\n",
    "    \n",
    "    zero_count = lottos.count(0)\n",
    "    \n",
    "    same_num = 6 - len(set(win_nums) - set(lottos))\n",
    "    \n",
    "    grade_high =  6 - (same_num + zero_count) + 1\n",
    "    if same_num <= 1:\n",
    "        grade_low = 6\n",
    "    else:\n",
    "        grade_low = 6 - same_num + 1\n",
    "    \n",
    "    answer = [grade_high, grade_low]\n",
    "    \n",
    "    return answer"
   ]
  },
  {
   "cell_type": "code",
   "execution_count": 2,
   "metadata": {},
   "outputs": [
    {
     "name": "stdout",
     "output_type": "stream",
     "text": [
      "[3, 5]\n"
     ]
    }
   ],
   "source": [
    "lottos = [44, 1, 0, 0, 31, 25]\n",
    "win_nums = [31, 10, 45, 1, 6, 19]\n",
    "\n",
    "print(solution(lottos, win_nums))"
   ]
  },
  {
   "cell_type": "code",
   "execution_count": 3,
   "metadata": {},
   "outputs": [
    {
     "name": "stdout",
     "output_type": "stream",
     "text": [
      "[1, 6]\n"
     ]
    }
   ],
   "source": [
    "lottos = [0, 0, 0, 0, 0, 0]\n",
    "win_nums = [31, 10, 45, 1, 6, 19]\n",
    "\n",
    "print(solution(lottos, win_nums))"
   ]
  },
  {
   "cell_type": "markdown",
   "metadata": {},
   "source": [
    "- 채점을 시작합니다.  \n",
    "  \n",
    "  \n",
    "- 정확성  테스트\n",
    "  - 테스트 1 〉\t통과 (0.01ms, 10.2MB)\n",
    "  - 테스트 2 〉\t통과 (0.01ms, 10.3MB)\n",
    "  - 테스트 3 〉\t통과 (0.01ms, 10.2MB)\n",
    "  - 테스트 4 〉\t통과 (0.01ms, 10.2MB)\n",
    "  - 테스트 5 〉\t통과 (0.01ms, 10.1MB)\n",
    "  - 테스트 6 〉\t통과 (0.01ms, 10.2MB)\n",
    "  - 테스트 7 〉\t통과 (0.01ms, 10.2MB)\n",
    "  - 테스트 8 〉\t통과 (0.01ms, 10.1MB)\n",
    "  - 테스트 9 〉\t통과 (0.01ms, 10.2MB)\n",
    "  - 테스트 10 〉\t통과 (0.01ms, 10.1MB)\n",
    "  - 테스트 11 〉\t통과 (0.01ms, 10.2MB)\n",
    "  - 테스트 12 〉\t통과 (0.01ms, 10.2MB)\n",
    "  - 테스트 13 〉\t통과 (0.01ms, 10.2MB)\n",
    "  - <테스트 14 〉\t실패 (0.01ms, 10.3MB)>\n",
    "  - 테스트 15 〉\t통과 (0.01ms, 10.2MB)  \n",
    "    \n",
    "    \n",
    "- 채점 결과\n",
    "  - 정확성: 93.3\n",
    "  - 합계: 93.3 / 100.0"
   ]
  },
  {
   "cell_type": "code",
   "execution_count": null,
   "metadata": {},
   "outputs": [],
   "source": []
  },
  {
   "cell_type": "code",
   "execution_count": 4,
   "metadata": {},
   "outputs": [
    {
     "name": "stdout",
     "output_type": "stream",
     "text": [
      "[1, 6]\n",
      "[1, 6]\n",
      "[1, 5]\n",
      "[1, 4]\n",
      "[1, 3]\n",
      "[1, 2]\n",
      "[1, 1]\n",
      "[2, 6]\n",
      "[3, 6]\n",
      "[4, 6]\n",
      "[4, 6]\n"
     ]
    }
   ],
   "source": [
    "input_datas = [\n",
    "    [[0, 0, 0, 0, 0, 0], [1, 2, 3, 4, 5, 6]],\n",
    "    [[0, 0, 0, 0, 0, 1], [1, 2, 3, 4, 5, 6]],\n",
    "    [[0, 0, 0, 0, 1, 2], [1, 2, 3, 4, 5, 6]],\n",
    "    [[0, 0, 0, 1, 2, 3], [1, 2, 3, 4, 5, 6]],\n",
    "    [[0, 0, 1, 2, 3, 4], [1, 2, 3, 4, 5, 6]],\n",
    "    [[0, 1, 2, 3, 4, 5], [1, 2, 3, 4, 5, 6]],\n",
    "    [[1, 2, 3, 4, 5, 6], [1, 2, 3, 4, 5, 6]],\n",
    "    [[0, 0, 0, 0, 0, 10], [1, 2, 3, 4, 5, 6]],\n",
    "    [[0, 0, 0, 0, 10, 11], [1, 2, 3, 4, 5, 6]],\n",
    "    [[0, 0, 0, 10, 11, 12], [1, 2, 3, 4, 5, 6]],\n",
    "    [[0, 0, 1, 10, 11, 12], [1, 2, 3, 4, 5, 6]],\n",
    "]\n",
    "\n",
    "for [lottos, win_nums] in input_datas:\n",
    "    print(solution(lottos, win_nums))"
   ]
  },
  {
   "cell_type": "code",
   "execution_count": null,
   "metadata": {},
   "outputs": [],
   "source": []
  },
  {
   "cell_type": "markdown",
   "metadata": {},
   "source": [
    "### 오류 발견\n",
    "  - if same_num <= 1 # 여기서 오류 발생"
   ]
  },
  {
   "cell_type": "code",
   "execution_count": 5,
   "metadata": {},
   "outputs": [],
   "source": [
    "def solution(lottos, win_nums):\n",
    "    lottos.sort()\n",
    "    win_nums.sort()\n",
    "    \n",
    "    zero_count = lottos.count(0)\n",
    "    \n",
    "    same_num = 6 - len(set(win_nums) - set(lottos))\n",
    "    \n",
    "    grade_high =  6 - (same_num + zero_count) + 1\n",
    "    \n",
    "    grade_low = 6 - same_num + 1\n",
    "    if grade_low >= 6:\n",
    "        grade_low = 6\n",
    "    \n",
    "    answer = [grade_high, grade_low]\n",
    "    \n",
    "    return answer"
   ]
  },
  {
   "cell_type": "markdown",
   "metadata": {},
   "source": [
    "#### 정확성 테스트 14번째 다시 오류"
   ]
  },
  {
   "cell_type": "code",
   "execution_count": null,
   "metadata": {},
   "outputs": [],
   "source": []
  },
  {
   "cell_type": "code",
   "execution_count": 6,
   "metadata": {},
   "outputs": [
    {
     "name": "stdout",
     "output_type": "stream",
     "text": [
      "[1, 6]\n",
      "[1, 6]\n",
      "[1, 5]\n",
      "[1, 4]\n",
      "[1, 3]\n",
      "[1, 2]\n",
      "[1, 1]\n",
      "[2, 6]\n",
      "[2, 6]\n",
      "[2, 5]\n",
      "[2, 4]\n",
      "[2, 3]\n",
      "[2, 2]\n",
      "[3, 6]\n",
      "[4, 6]\n",
      "[4, 6]\n",
      "[4, 5]\n",
      "[4, 4]\n",
      "[6, 6]\n",
      "[6, 6]\n",
      "[7, 6]\n"
     ]
    }
   ],
   "source": [
    "win_nums = [1, 2, 3, 4, 5, 6]\n",
    "input_datas = [\n",
    "    [0, 0, 0, 0, 0, 0],\n",
    "    [0, 0, 0, 0, 0, 1],\n",
    "    [0, 0, 0, 0, 1, 2],\n",
    "    [0, 0, 0, 1, 2, 3],\n",
    "    [0, 0, 1, 2, 3, 4],\n",
    "    [0, 1, 2, 3, 4, 5],\n",
    "    [1, 2, 3, 4, 5, 6],\n",
    "    [0, 0, 0, 0, 0, 10],\n",
    "    [0, 0, 0, 0, 1, 10],\n",
    "    [0, 0, 0, 1, 2, 10],\n",
    "    [0, 0, 1, 2, 3, 10],\n",
    "    [0, 1, 2, 3, 4, 10],\n",
    "    [1, 2, 3, 4, 5, 10],\n",
    "    [0, 0, 0, 0, 10, 11],\n",
    "    [0, 0, 0, 10, 11, 12],\n",
    "    [0, 0, 1, 10, 11, 12],\n",
    "    [0, 1, 2, 10, 11, 12],\n",
    "    [1, 2, 3, 10, 11, 12],\n",
    "    [0, 10, 11, 12, 13, 14],\n",
    "    [1, 10, 11, 12, 13, 14],\n",
    "    [10, 11, 12, 13, 14, 15]\n",
    "\n",
    "]\n",
    "\n",
    "for lottos in input_datas:\n",
    "    print(solution(lottos, win_nums))"
   ]
  },
  {
   "cell_type": "markdown",
   "metadata": {},
   "source": [
    "### 위의 테스트 마지막에 오류 발생\n",
    "  - 수정 후 제출"
   ]
  },
  {
   "cell_type": "code",
   "execution_count": null,
   "metadata": {},
   "outputs": [],
   "source": []
  },
  {
   "cell_type": "code",
   "execution_count": 7,
   "metadata": {},
   "outputs": [],
   "source": [
    "def solution(lottos, win_nums):\n",
    "    lottos.sort()\n",
    "    win_nums.sort()\n",
    "    \n",
    "    zero_count = lottos.count(0)\n",
    "    \n",
    "    same_num = 6 - len(list(set(win_nums) - set(lottos)))\n",
    "    \n",
    "    grade_high =  6 - (same_num + zero_count) + 1\n",
    "    if grade_high >= 6:\n",
    "        grade_high = 6\n",
    "\n",
    "    \n",
    "    grade_low = 6 - same_num + 1\n",
    "    if grade_low >= 6:\n",
    "        grade_low = 6\n",
    "    \n",
    "    answer = [grade_high, grade_low]\n",
    "    \n",
    "    return answer"
   ]
  },
  {
   "cell_type": "code",
   "execution_count": 8,
   "metadata": {},
   "outputs": [
    {
     "name": "stdout",
     "output_type": "stream",
     "text": [
      "[1, 6]\n",
      "[1, 6]\n",
      "[1, 5]\n",
      "[1, 4]\n",
      "[1, 3]\n",
      "[1, 2]\n",
      "[1, 1]\n",
      "[2, 6]\n",
      "[2, 6]\n",
      "[2, 5]\n",
      "[2, 4]\n",
      "[2, 3]\n",
      "[2, 2]\n",
      "[3, 6]\n",
      "[4, 6]\n",
      "[4, 6]\n",
      "[4, 5]\n",
      "[4, 4]\n",
      "[6, 6]\n",
      "[6, 6]\n",
      "[6, 6]\n"
     ]
    }
   ],
   "source": [
    "for lottos in input_datas:\n",
    "    print(solution(lottos, win_nums))"
   ]
  },
  {
   "cell_type": "code",
   "execution_count": null,
   "metadata": {},
   "outputs": [],
   "source": []
  },
  {
   "cell_type": "code",
   "execution_count": 9,
   "metadata": {},
   "outputs": [],
   "source": [
    "def solution(lottos, win_nums):\n",
    "    lottos.sort()\n",
    "    win_nums.sort()\n",
    "    \n",
    "    zero_count = lottos.count(0)\n",
    "    \n",
    "    # 교집합으로 같은 숫자 세기\n",
    "    same_num = len(list(set(win_nums) & set(lottos)))\n",
    "    \n",
    "    grade_high =  6 - (same_num + zero_count) + 1\n",
    "    if grade_high >= 6:\n",
    "        grade_high = 6\n",
    "\n",
    "    \n",
    "    grade_low = 6 - same_num + 1\n",
    "    if grade_low >= 6:\n",
    "        grade_low = 6\n",
    "    \n",
    "    answer = [grade_high, grade_low]\n",
    "    \n",
    "    return answer"
   ]
  },
  {
   "cell_type": "code",
   "execution_count": null,
   "metadata": {},
   "outputs": [],
   "source": []
  }
 ],
 "metadata": {
  "kernelspec": {
   "display_name": "Python 3",
   "language": "python",
   "name": "python3"
  },
  "language_info": {
   "codemirror_mode": {
    "name": "ipython",
    "version": 3
   },
   "file_extension": ".py",
   "mimetype": "text/x-python",
   "name": "python",
   "nbconvert_exporter": "python",
   "pygments_lexer": "ipython3",
   "version": "3.8.5"
  }
 },
 "nbformat": 4,
 "nbformat_minor": 4
}
